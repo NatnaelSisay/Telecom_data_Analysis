{
 "cells": [
  {
   "cell_type": "markdown",
   "id": "64643360",
   "metadata": {},
   "source": [
    "# Exploratory Data Analysis (EDA)"
   ]
  },
  {
   "cell_type": "markdown",
   "id": "b92743d8",
   "metadata": {},
   "source": [
    "This notebook will help us understand The Data provided. Some of the Tasks we will cover in here are.\n",
    "- View and count Null Values in the dataset\n",
    "- Get General Information About the dataset\n",
    "- "
   ]
  },
  {
   "cell_type": "code",
   "execution_count": null,
   "id": "d6f6d777",
   "metadata": {},
   "outputs": [],
   "source": []
  }
 ],
 "metadata": {
  "kernelspec": {
   "display_name": "Python 3",
   "language": "python",
   "name": "python3"
  },
  "language_info": {
   "codemirror_mode": {
    "name": "ipython",
    "version": 3
   },
   "file_extension": ".py",
   "mimetype": "text/x-python",
   "name": "python",
   "nbconvert_exporter": "python",
   "pygments_lexer": "ipython3",
   "version": "3.8.8"
  }
 },
 "nbformat": 4,
 "nbformat_minor": 5
}
