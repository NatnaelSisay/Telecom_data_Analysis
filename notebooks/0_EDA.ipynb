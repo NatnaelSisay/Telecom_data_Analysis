{
 "cells": [
  {
   "cell_type": "markdown",
   "id": "64643360",
   "metadata": {},
   "source": [
    "# Exploratory Data Analysis (EDA)"
   ]
  },
  {
   "cell_type": "markdown",
   "id": "b92743d8",
   "metadata": {},
   "source": [
    "This notebook will help us understand The Telecom Data. Some of the Tasks we will cover in here are.\n",
    "- View and count Null Values in the dataset\n",
    "- Get General Information About the dataset\n",
    "- "
   ]
  },
  {
   "cell_type": "code",
   "execution_count": 1,
   "id": "5595e5fa",
   "metadata": {},
   "outputs": [],
   "source": [
    "# System Modules\n",
    "import os\n",
    "import sys\n",
    "sys.path.append(os.path.abspath(os.path.join('..')))\n",
    "\n",
    "import warnings\n",
    "warnings.filterwarnings('ignore')"
   ]
  },
  {
   "cell_type": "code",
   "execution_count": 2,
   "id": "d6f6d777",
   "metadata": {},
   "outputs": [],
   "source": [
    "# Module imports\n",
    "import pandas as pd\n",
    "pd.set_option('max_column', None)\n",
    "pd.options.display.float_format = \"{:.2f}\".format\n",
    "\n"
   ]
  },
  {
   "cell_type": "code",
   "execution_count": 3,
   "id": "e9b0cebe",
   "metadata": {},
   "outputs": [],
   "source": [
    "# Custom Modules\n",
    "from myscripts import file\n",
    "from myscripts.df_info import DataFrameInfo\n",
    "from myscripts.df_cleaning import DataFrameCleaning\n"
   ]
  },
  {
   "cell_type": "code",
   "execution_count": 4,
   "id": "7d793278",
   "metadata": {},
   "outputs": [],
   "source": [
    "file_name = 'Week1_challenge_data_source.csv'\n",
    "data = file.read_csv(file_name)"
   ]
  },
  {
   "cell_type": "code",
   "execution_count": null,
   "id": "fb3481d9",
   "metadata": {},
   "outputs": [],
   "source": []
  },
  {
   "cell_type": "markdown",
   "id": "b2551096",
   "metadata": {},
   "source": [
    "## Information About The Data"
   ]
  },
  {
   "cell_type": "code",
   "execution_count": 5,
   "id": "d4ab57bb",
   "metadata": {},
   "outputs": [
    {
     "name": "stdout",
     "output_type": "stream",
     "text": [
      "Data Frame contain 150001 rows and 55 columns\n"
     ]
    }
   ],
   "source": [
    "df_info = DataFrameInfo(data)\n",
    "df_info.info()"
   ]
  },
  {
   "cell_type": "code",
   "execution_count": 6,
   "id": "52511ae4",
   "metadata": {},
   "outputs": [
    {
     "name": "stdout",
     "output_type": "stream",
     "text": [
      "Data Frame contain null values of 12.72%\n"
     ]
    }
   ],
   "source": [
    "## Null Percentage \n",
    "df_info.null_percentage()"
   ]
  },
  {
   "cell_type": "code",
   "execution_count": 7,
   "id": "7543778b",
   "metadata": {},
   "outputs": [
    {
     "name": "stdout",
     "output_type": "stream",
     "text": [
      "Bearer Id                                      991\n",
      "Start                                            1\n",
      "Start ms                                         1\n",
      "End                                              1\n",
      "End ms                                           1\n",
      "Dur. (ms)                                        1\n",
      "IMSI                                           570\n",
      "MSISDN/Number                                 1066\n",
      "IMEI                                           572\n",
      "Last Location Name                            1153\n",
      "Avg RTT DL (ms)                              27829\n",
      "Avg RTT UL (ms)                              27812\n",
      "Avg Bearer TP DL (kbps)                          1\n",
      "Avg Bearer TP UL (kbps)                          1\n",
      "TCP DL Retrans. Vol (Bytes)                  88146\n",
      "TCP UL Retrans. Vol (Bytes)                  96649\n",
      "DL TP < 50 Kbps (%)                            754\n",
      "50 Kbps < DL TP < 250 Kbps (%)                 754\n",
      "250 Kbps < DL TP < 1 Mbps (%)                  754\n",
      "DL TP > 1 Mbps (%)                             754\n",
      "UL TP < 10 Kbps (%)                            792\n",
      "10 Kbps < UL TP < 50 Kbps (%)                  792\n",
      "50 Kbps < UL TP < 300 Kbps (%)                 792\n",
      "UL TP > 300 Kbps (%)                           792\n",
      "HTTP DL (Bytes)                              81474\n",
      "HTTP UL (Bytes)                              81810\n",
      "Activity Duration DL (ms)                        1\n",
      "Activity Duration UL (ms)                        1\n",
      "Dur. (ms).1                                      1\n",
      "Handset Manufacturer                          9559\n",
      "Handset Type                                  9559\n",
      "Nb of sec with 125000B < Vol DL              97538\n",
      "Nb of sec with 1250B < Vol UL < 6250B        92894\n",
      "Nb of sec with 31250B < Vol DL < 125000B     93586\n",
      "Nb of sec with 37500B < Vol UL              130254\n",
      "Nb of sec with 6250B < Vol DL < 31250B       88317\n",
      "Nb of sec with 6250B < Vol UL < 37500B      111843\n",
      "Nb of sec with Vol DL < 6250B                  755\n",
      "Nb of sec with Vol UL < 1250B                  793\n",
      "Social Media DL (Bytes)                          0\n",
      "Social Media UL (Bytes)                          0\n",
      "Google DL (Bytes)                                0\n",
      "Google UL (Bytes)                                0\n",
      "Email DL (Bytes)                                 0\n",
      "Email UL (Bytes)                                 0\n",
      "Youtube DL (Bytes)                               0\n",
      "Youtube UL (Bytes)                               0\n",
      "Netflix DL (Bytes)                               0\n",
      "Netflix UL (Bytes)                               0\n",
      "Gaming DL (Bytes)                                0\n",
      "Gaming UL (Bytes)                                0\n",
      "Other DL (Bytes)                                 0\n",
      "Other UL (Bytes)                                 0\n",
      "Total UL (Bytes)                                 1\n",
      "Total DL (Bytes)                                 1\n",
      "dtype: int64\n"
     ]
    }
   ],
   "source": [
    "df_info.get_null_counts()"
   ]
  },
  {
   "cell_type": "code",
   "execution_count": 8,
   "id": "e1f8746d",
   "metadata": {},
   "outputs": [
    {
     "name": "stdout",
     "output_type": "stream",
     "text": [
      "Bearer Id                                    0.03\n",
      "Start ms                                     0.00\n",
      "End ms                                      -0.00\n",
      "Dur. (ms)                                    3.95\n",
      "IMSI                                        41.05\n",
      "MSISDN/Number                              332.16\n",
      "IMEI                                         1.07\n",
      "Avg RTT DL (ms)                             62.91\n",
      "Avg RTT UL (ms)                             28.46\n",
      "Avg Bearer TP DL (kbps)                      2.59\n",
      "Avg Bearer TP UL (kbps)                      4.50\n",
      "TCP DL Retrans. Vol (Bytes)                 15.95\n",
      "TCP UL Retrans. Vol (Bytes)                 84.11\n",
      "DL TP < 50 Kbps (%)                         -2.30\n",
      "50 Kbps < DL TP < 250 Kbps (%)               3.27\n",
      "250 Kbps < DL TP < 1 Mbps (%)                4.57\n",
      "DL TP > 1 Mbps (%)                           5.37\n",
      "UL TP < 10 Kbps (%)                         -8.99\n",
      "10 Kbps < UL TP < 50 Kbps (%)               10.94\n",
      "50 Kbps < UL TP < 300 Kbps (%)              21.88\n",
      "UL TP > 300 Kbps (%)                        36.17\n",
      "HTTP DL (Bytes)                             38.94\n",
      "HTTP UL (Bytes)                             32.47\n",
      "Activity Duration DL (ms)                    5.87\n",
      "Activity Duration UL (ms)                    7.38\n",
      "Dur. (ms).1                                  3.95\n",
      "Nb of sec with 125000B < Vol DL              6.59\n",
      "Nb of sec with 1250B < Vol UL < 6250B       22.04\n",
      "Nb of sec with 31250B < Vol DL < 125000B     6.61\n",
      "Nb of sec with 37500B < Vol UL              21.56\n",
      "Nb of sec with 6250B < Vol DL < 31250B       6.90\n",
      "Nb of sec with 6250B < Vol UL < 37500B      19.64\n",
      "Nb of sec with Vol DL < 6250B                9.04\n",
      "Nb of sec with Vol UL < 1250B                7.50\n",
      "Social Media DL (Bytes)                     -0.00\n",
      "Social Media UL (Bytes)                     -0.00\n",
      "Google DL (Bytes)                           -0.01\n",
      "Google UL (Bytes)                            0.00\n",
      "Email DL (Bytes)                            -0.00\n",
      "Email UL (Bytes)                             0.01\n",
      "Youtube DL (Bytes)                           0.00\n",
      "Youtube UL (Bytes)                          -0.00\n",
      "Netflix DL (Bytes)                          -0.00\n",
      "Netflix UL (Bytes)                          -0.00\n",
      "Gaming DL (Bytes)                           -0.00\n",
      "Gaming UL (Bytes)                           -0.00\n",
      "Other DL (Bytes)                             0.00\n",
      "Other UL (Bytes)                             0.00\n",
      "Total UL (Bytes)                            -0.00\n",
      "Total DL (Bytes)                            -0.00\n",
      "dtype: float64\n"
     ]
    }
   ],
   "source": [
    "df_info.skewness()"
   ]
  },
  {
   "cell_type": "markdown",
   "id": "af04fa8b",
   "metadata": {},
   "source": [
    "## Data Cleaning"
   ]
  },
  {
   "cell_type": "code",
   "execution_count": 14,
   "id": "059a0082",
   "metadata": {},
   "outputs": [],
   "source": [
    "df_clean = DataFrameCleaning(data)"
   ]
  },
  {
   "cell_type": "markdown",
   "id": "e71e75f2",
   "metadata": {},
   "source": [
    "Columns with More than 30% null, After Identifying columns\n",
    "remove them from our dataset"
   ]
  },
  {
   "cell_type": "code",
   "execution_count": 15,
   "id": "c476e29c",
   "metadata": {},
   "outputs": [
    {
     "name": "stdout",
     "output_type": "stream",
     "text": [
      "List Of Columns with More than 30% Null Values\n",
      "['TCP DL Retrans. Vol (Bytes)', 'TCP UL Retrans. Vol (Bytes)', 'HTTP DL (Bytes)', 'HTTP UL (Bytes)', 'Nb of sec with 125000B < Vol DL', 'Nb of sec with 1250B < Vol UL < 6250B', 'Nb of sec with 31250B < Vol DL < 125000B', 'Nb of sec with 37500B < Vol UL', 'Nb of sec with 6250B < Vol DL < 31250B', 'Nb of sec with 6250B < Vol UL < 37500B']\n"
     ]
    }
   ],
   "source": [
    "bad_columns = df_clean.get_column_with_many_null()\n",
    "print(\"List Of Columns with More than 30% Null Values\")\n",
    "print(bad_columns)"
   ]
  },
  {
   "cell_type": "code",
   "execution_count": 17,
   "id": "9b2eeed8",
   "metadata": {},
   "outputs": [],
   "source": [
    "## Remove Bad columns\n",
    "df_clean.drop_columns(bad_columns)\n",
    "df_clean.drop_column('Dur. (ms).1')"
   ]
  },
  {
   "cell_type": "code",
   "execution_count": 18,
   "id": "49777f02",
   "metadata": {},
   "outputs": [
    {
     "name": "stdout",
     "output_type": "stream",
     "text": [
      "Number Of Columns with More than 30% Null Values After Clean Up\n",
      "[]\n"
     ]
    }
   ],
   "source": [
    "bad_columns = df_clean.get_column_with_many_null()\n",
    "print(\"Number Of Columns with More than 30% Null Values After Clean Up\")\n",
    "print(bad_columns)"
   ]
  },
  {
   "cell_type": "code",
   "execution_count": null,
   "id": "e2917319",
   "metadata": {},
   "outputs": [],
   "source": []
  }
 ],
 "metadata": {
  "kernelspec": {
   "display_name": "Python 3",
   "language": "python",
   "name": "python3"
  },
  "language_info": {
   "codemirror_mode": {
    "name": "ipython",
    "version": 3
   },
   "file_extension": ".py",
   "mimetype": "text/x-python",
   "name": "python",
   "nbconvert_exporter": "python",
   "pygments_lexer": "ipython3",
   "version": "3.8.8"
  }
 },
 "nbformat": 4,
 "nbformat_minor": 5
}
