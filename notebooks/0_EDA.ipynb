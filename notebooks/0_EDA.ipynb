{
 "cells": [
  {
   "cell_type": "markdown",
   "id": "64643360",
   "metadata": {},
   "source": [
    "# Exploratory Data Analysis (EDA)"
   ]
  },
  {
   "cell_type": "markdown",
   "id": "b92743d8",
   "metadata": {},
   "source": [
    "This notebook will help us understand The Telecom Data. Some of the Tasks we will cover in here are.\n",
    "- View and count Null Values in the dataset\n",
    "- Get General Information About the dataset\n",
    "- "
   ]
  },
  {
   "cell_type": "code",
   "execution_count": 5,
   "id": "5595e5fa",
   "metadata": {},
   "outputs": [],
   "source": [
    "# System Modules\n",
    "import os\n",
    "import sys\n",
    "sys.path.append(os.path.abspath(os.path.join('..')))"
   ]
  },
  {
   "cell_type": "code",
   "execution_count": 6,
   "id": "d6f6d777",
   "metadata": {},
   "outputs": [],
   "source": [
    "# Module imports\n",
    "import pandas as pd\n"
   ]
  },
  {
   "cell_type": "code",
   "execution_count": 7,
   "id": "e9b0cebe",
   "metadata": {},
   "outputs": [],
   "source": [
    "# Custom Modules\n",
    "from myscripts import file"
   ]
  },
  {
   "cell_type": "code",
   "execution_count": 8,
   "id": "7d793278",
   "metadata": {},
   "outputs": [],
   "source": [
    "file_name = 'Week1_challenge_data_source.csv'\n",
    "data = file.read_csv(file_name)"
   ]
  }
 ],
 "metadata": {
  "kernelspec": {
   "display_name": "Python 3",
   "language": "python",
   "name": "python3"
  },
  "language_info": {
   "codemirror_mode": {
    "name": "ipython",
    "version": 3
   },
   "file_extension": ".py",
   "mimetype": "text/x-python",
   "name": "python",
   "nbconvert_exporter": "python",
   "pygments_lexer": "ipython3",
   "version": "3.8.8"
  }
 },
 "nbformat": 4,
 "nbformat_minor": 5
}
