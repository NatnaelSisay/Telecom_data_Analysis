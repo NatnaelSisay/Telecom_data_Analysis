{
 "cells": [
  {
   "cell_type": "code",
   "execution_count": 1,
   "id": "746b3aaf",
   "metadata": {},
   "outputs": [],
   "source": [
    "# System Modules\n",
    "import os\n",
    "import sys\n",
    "sys.path.append(os.path.abspath(os.path.join('..')))\n",
    "\n",
    "import warnings\n",
    "warnings.filterwarnings('ignore')"
   ]
  },
  {
   "cell_type": "code",
   "execution_count": 2,
   "id": "fea88890",
   "metadata": {},
   "outputs": [],
   "source": [
    "# Module imports\n",
    "import pandas as pd\n",
    "pd.set_option('max_column', None)\n",
    "pd.options.display.float_format = \"{:.2f}\".format"
   ]
  },
  {
   "cell_type": "code",
   "execution_count": 3,
   "id": "05ae6e78",
   "metadata": {},
   "outputs": [],
   "source": [
    "# Custom Modules\n",
    "from myscripts import file\n",
    "from myscripts import marketing"
   ]
  },
  {
   "cell_type": "code",
   "execution_count": 4,
   "id": "3a4bbbbc",
   "metadata": {},
   "outputs": [],
   "source": [
    "file_name = 'clean_telecom_data.csv'\n",
    "data = file.read_csv(file_name)"
   ]
  },
  {
   "cell_type": "markdown",
   "id": "c64131b3",
   "metadata": {},
   "source": [
    "# Task-1 : User Overview Analysis"
   ]
  },
  {
   "cell_type": "markdown",
   "id": "b1f8275c",
   "metadata": {},
   "source": [
    "Exploratory Data Analysis is a fundamental step in the data science process. It involves all the processes used to familiarize oneself with the data and explore initial insights that will inform further steps in the data science process.\n"
   ]
  },
  {
   "cell_type": "markdown",
   "id": "5f8bceb2",
   "metadata": {},
   "source": [
    "### For Marketing "
   ]
  },
  {
   "cell_type": "markdown",
   "id": "184980d6",
   "metadata": {},
   "source": [
    "1. Start by identifying the top 10 handsets used by the customers.\n",
    "2. Then, identify the top 3 handset manufacturers\n",
    "3. Next, identify the top 5 handsets per top 3 handset manufacturer\n",
    "4. Make a short interpretation and recommendation to marketing teams\n"
   ]
  },
  {
   "cell_type": "code",
   "execution_count": 5,
   "id": "bc401492",
   "metadata": {},
   "outputs": [
    {
     "data": {
      "text/html": [
       "<div>\n",
       "<style scoped>\n",
       "    .dataframe tbody tr th:only-of-type {\n",
       "        vertical-align: middle;\n",
       "    }\n",
       "\n",
       "    .dataframe tbody tr th {\n",
       "        vertical-align: top;\n",
       "    }\n",
       "\n",
       "    .dataframe thead th {\n",
       "        text-align: right;\n",
       "    }\n",
       "</style>\n",
       "<table border=\"1\" class=\"dataframe\">\n",
       "  <thead>\n",
       "    <tr style=\"text-align: right;\">\n",
       "      <th></th>\n",
       "      <th>MSISDN/Number</th>\n",
       "      <th>Handset Type</th>\n",
       "      <th>Handset Manufacturer</th>\n",
       "    </tr>\n",
       "  </thead>\n",
       "  <tbody>\n",
       "    <tr>\n",
       "      <th>0</th>\n",
       "      <td>33664962239.00</td>\n",
       "      <td>Samsung Galaxy A5 Sm-A520F</td>\n",
       "      <td>Samsung</td>\n",
       "    </tr>\n",
       "    <tr>\n",
       "      <th>1</th>\n",
       "      <td>33681854413.00</td>\n",
       "      <td>Samsung Galaxy J5 (Sm-J530)</td>\n",
       "      <td>Samsung</td>\n",
       "    </tr>\n",
       "    <tr>\n",
       "      <th>2</th>\n",
       "      <td>33760627129.00</td>\n",
       "      <td>Samsung Galaxy A8 (2018)</td>\n",
       "      <td>Samsung</td>\n",
       "    </tr>\n",
       "    <tr>\n",
       "      <th>3</th>\n",
       "      <td>33750343200.00</td>\n",
       "      <td>Huawei B528S-23A</td>\n",
       "      <td>Apple</td>\n",
       "    </tr>\n",
       "    <tr>\n",
       "      <th>4</th>\n",
       "      <td>33699795932.00</td>\n",
       "      <td>Samsung Sm-G390F</td>\n",
       "      <td>Samsung</td>\n",
       "    </tr>\n",
       "  </tbody>\n",
       "</table>\n",
       "</div>"
      ],
      "text/plain": [
       "   MSISDN/Number                 Handset Type Handset Manufacturer\n",
       "0 33664962239.00   Samsung Galaxy A5 Sm-A520F              Samsung\n",
       "1 33681854413.00  Samsung Galaxy J5 (Sm-J530)              Samsung\n",
       "2 33760627129.00     Samsung Galaxy A8 (2018)              Samsung\n",
       "3 33750343200.00             Huawei B528S-23A                Apple\n",
       "4 33699795932.00             Samsung Sm-G390F              Samsung"
      ]
     },
     "execution_count": 5,
     "metadata": {},
     "output_type": "execute_result"
    }
   ],
   "source": [
    "marketing_df = marketing.Marketing(data)\n",
    "marketing_df.filter_necessary_columns()\n",
    "marketing_df.df.head()"
   ]
  },
  {
   "cell_type": "markdown",
   "id": "9020c2f9",
   "metadata": {},
   "source": [
    "Top 10 Handsets"
   ]
  },
  {
   "cell_type": "code",
   "execution_count": 6,
   "id": "d3edb690",
   "metadata": {},
   "outputs": [
    {
     "data": {
      "text/html": [
       "<div>\n",
       "<style scoped>\n",
       "    .dataframe tbody tr th:only-of-type {\n",
       "        vertical-align: middle;\n",
       "    }\n",
       "\n",
       "    .dataframe tbody tr th {\n",
       "        vertical-align: top;\n",
       "    }\n",
       "\n",
       "    .dataframe thead th {\n",
       "        text-align: right;\n",
       "    }\n",
       "</style>\n",
       "<table border=\"1\" class=\"dataframe\">\n",
       "  <thead>\n",
       "    <tr style=\"text-align: right;\">\n",
       "      <th></th>\n",
       "      <th>Handset Type</th>\n",
       "      <th>MSISDN/Number</th>\n",
       "    </tr>\n",
       "  </thead>\n",
       "  <tbody>\n",
       "    <tr>\n",
       "      <th>315</th>\n",
       "      <td>Huawei B528S-23A</td>\n",
       "      <td>28631</td>\n",
       "    </tr>\n",
       "    <tr>\n",
       "      <th>53</th>\n",
       "      <td>Apple iPhone 6S (A1688)</td>\n",
       "      <td>9395</td>\n",
       "    </tr>\n",
       "    <tr>\n",
       "      <th>49</th>\n",
       "      <td>Apple iPhone 6 (A1586)</td>\n",
       "      <td>8993</td>\n",
       "    </tr>\n",
       "    <tr>\n",
       "      <th>59</th>\n",
       "      <td>Apple iPhone 7 (A1778)</td>\n",
       "      <td>6279</td>\n",
       "    </tr>\n",
       "    <tr>\n",
       "      <th>73</th>\n",
       "      <td>Apple iPhone Se (A1723)</td>\n",
       "      <td>5165</td>\n",
       "    </tr>\n",
       "    <tr>\n",
       "      <th>66</th>\n",
       "      <td>Apple iPhone 8 (A1905)</td>\n",
       "      <td>4977</td>\n",
       "    </tr>\n",
       "    <tr>\n",
       "      <th>78</th>\n",
       "      <td>Apple iPhone Xr (A2105)</td>\n",
       "      <td>4556</td>\n",
       "    </tr>\n",
       "    <tr>\n",
       "      <th>951</th>\n",
       "      <td>Samsung Galaxy S8 (Sm-G950F)</td>\n",
       "      <td>4464</td>\n",
       "    </tr>\n",
       "    <tr>\n",
       "      <th>75</th>\n",
       "      <td>Apple iPhone X (A1901)</td>\n",
       "      <td>3806</td>\n",
       "    </tr>\n",
       "    <tr>\n",
       "      <th>834</th>\n",
       "      <td>Samsung Galaxy A5 Sm-A520F</td>\n",
       "      <td>3700</td>\n",
       "    </tr>\n",
       "  </tbody>\n",
       "</table>\n",
       "</div>"
      ],
      "text/plain": [
       "                     Handset Type  MSISDN/Number\n",
       "315              Huawei B528S-23A          28631\n",
       "53        Apple iPhone 6S (A1688)           9395\n",
       "49         Apple iPhone 6 (A1586)           8993\n",
       "59         Apple iPhone 7 (A1778)           6279\n",
       "73        Apple iPhone Se (A1723)           5165\n",
       "66         Apple iPhone 8 (A1905)           4977\n",
       "78        Apple iPhone Xr (A2105)           4556\n",
       "951  Samsung Galaxy S8 (Sm-G950F)           4464\n",
       "75         Apple iPhone X (A1901)           3806\n",
       "834    Samsung Galaxy A5 Sm-A520F           3700"
      ]
     },
     "execution_count": 6,
     "metadata": {},
     "output_type": "execute_result"
    }
   ],
   "source": [
    "top_10_handsets =  marketing_df.get_top_handsets(10)\n",
    "top_10_handsets"
   ]
  },
  {
   "cell_type": "markdown",
   "id": "21628c69",
   "metadata": {},
   "source": [
    "Top 3 Manufacturers"
   ]
  },
  {
   "cell_type": "code",
   "execution_count": 7,
   "id": "e515e62d",
   "metadata": {},
   "outputs": [
    {
     "data": {
      "text/html": [
       "<div>\n",
       "<style scoped>\n",
       "    .dataframe tbody tr th:only-of-type {\n",
       "        vertical-align: middle;\n",
       "    }\n",
       "\n",
       "    .dataframe tbody tr th {\n",
       "        vertical-align: top;\n",
       "    }\n",
       "\n",
       "    .dataframe thead th {\n",
       "        text-align: right;\n",
       "    }\n",
       "</style>\n",
       "<table border=\"1\" class=\"dataframe\">\n",
       "  <thead>\n",
       "    <tr style=\"text-align: right;\">\n",
       "      <th></th>\n",
       "      <th>Handset Manufacturer</th>\n",
       "      <th>MSISDN/Number</th>\n",
       "    </tr>\n",
       "  </thead>\n",
       "  <tbody>\n",
       "    <tr>\n",
       "      <th>5</th>\n",
       "      <td>Apple</td>\n",
       "      <td>68243</td>\n",
       "    </tr>\n",
       "    <tr>\n",
       "      <th>103</th>\n",
       "      <td>Samsung</td>\n",
       "      <td>40429</td>\n",
       "    </tr>\n",
       "    <tr>\n",
       "      <th>52</th>\n",
       "      <td>Huawei</td>\n",
       "      <td>34296</td>\n",
       "    </tr>\n",
       "  </tbody>\n",
       "</table>\n",
       "</div>"
      ],
      "text/plain": [
       "    Handset Manufacturer  MSISDN/Number\n",
       "5                  Apple          68243\n",
       "103              Samsung          40429\n",
       "52                Huawei          34296"
      ]
     },
     "execution_count": 7,
     "metadata": {},
     "output_type": "execute_result"
    }
   ],
   "source": [
    "top_3_manufacturers =  marketing_df.get_top_manufacturers(3)\n",
    "top_3_manufacturers"
   ]
  },
  {
   "cell_type": "markdown",
   "id": "e8848aa4",
   "metadata": {},
   "source": [
    "The top 5 handsets per top 3 handset manufacturer"
   ]
  },
  {
   "cell_type": "code",
   "execution_count": 8,
   "id": "da3d5a85",
   "metadata": {},
   "outputs": [
    {
     "name": "stdout",
     "output_type": "stream",
     "text": [
      "**** Apple ***\n",
      "Handset Type\n",
      "Apple iPhone 6S (A1688)    6744\n",
      "Huawei B528S-23A           6650\n",
      "Apple iPhone 6 (A1586)     6245\n",
      "Apple iPhone 7 (A1778)     4675\n",
      "Apple iPhone Se (A1723)    3744\n",
      "Name: MSISDN/Number, dtype: int64\n",
      "\n",
      "**** Samsung ***\n",
      "Handset Type\n",
      "Samsung Galaxy S8 (Sm-G950F)    3232\n",
      "Samsung Galaxy J5 (Sm-J530)     2741\n",
      "Samsung Galaxy A5 Sm-A520F      2701\n",
      "Samsung Galaxy J3 (Sm-J330)     2582\n",
      "Samsung Galaxy S7 (Sm-G930X)    2288\n",
      "Name: MSISDN/Number, dtype: int64\n",
      "\n",
      "**** Huawei ***\n",
      "Handset Type\n",
      "Huawei B528S-23A                  10616\n",
      "Huawei P20 Lite Huawei Nova 3E     1526\n",
      "Huawei E5180                       1182\n",
      "Huawei P20                         1105\n",
      "Huawei Y6 2018                      757\n",
      "Name: MSISDN/Number, dtype: int64\n",
      "\n"
     ]
    }
   ],
   "source": [
    "best_phones = marketing_df.get_best_phones()"
   ]
  },
  {
   "cell_type": "markdown",
   "id": "fa0ee0a4",
   "metadata": {},
   "source": [
    "### Task 1.1 "
   ]
  },
  {
   "cell_type": "markdown",
   "id": "584afccd",
   "metadata": {},
   "source": [
    "Aggregate per user the following information in the column  \n",
    "1. number of xDR sessions\n",
    "2. Session duration\n",
    "3. the total download (DL) and upload (UL) data\n",
    "4. the total data volume (in Bytes) during this session for each application"
   ]
  },
  {
   "cell_type": "code",
   "execution_count": 9,
   "id": "e4803898",
   "metadata": {},
   "outputs": [
    {
     "data": {
      "text/html": [
       "<div>\n",
       "<style scoped>\n",
       "    .dataframe tbody tr th:only-of-type {\n",
       "        vertical-align: middle;\n",
       "    }\n",
       "\n",
       "    .dataframe tbody tr th {\n",
       "        vertical-align: top;\n",
       "    }\n",
       "\n",
       "    .dataframe thead th {\n",
       "        text-align: right;\n",
       "    }\n",
       "</style>\n",
       "<table border=\"1\" class=\"dataframe\">\n",
       "  <thead>\n",
       "    <tr style=\"text-align: right;\">\n",
       "      <th></th>\n",
       "      <th>Bearer Id</th>\n",
       "      <th>Dur. (ms)</th>\n",
       "      <th>Total UL (Bytes)</th>\n",
       "      <th>Total DL (Bytes)</th>\n",
       "    </tr>\n",
       "    <tr>\n",
       "      <th>MSISDN/Number</th>\n",
       "      <th></th>\n",
       "      <th></th>\n",
       "      <th></th>\n",
       "      <th></th>\n",
       "    </tr>\n",
       "  </thead>\n",
       "  <tbody>\n",
       "    <tr>\n",
       "      <th>33601001722.00</th>\n",
       "      <td>1</td>\n",
       "      <td>116720.00</td>\n",
       "      <td>36053108.00</td>\n",
       "      <td>842637466.00</td>\n",
       "    </tr>\n",
       "    <tr>\n",
       "      <th>33601001754.00</th>\n",
       "      <td>1</td>\n",
       "      <td>181230.00</td>\n",
       "      <td>36104459.00</td>\n",
       "      <td>120755184.00</td>\n",
       "    </tr>\n",
       "    <tr>\n",
       "      <th>33601002511.00</th>\n",
       "      <td>1</td>\n",
       "      <td>134969.00</td>\n",
       "      <td>39306820.00</td>\n",
       "      <td>556659663.00</td>\n",
       "    </tr>\n",
       "    <tr>\n",
       "      <th>33601007832.00</th>\n",
       "      <td>1</td>\n",
       "      <td>49878.00</td>\n",
       "      <td>20327526.00</td>\n",
       "      <td>401993172.00</td>\n",
       "    </tr>\n",
       "    <tr>\n",
       "      <th>33601008617.00</th>\n",
       "      <td>2</td>\n",
       "      <td>37104.00</td>\n",
       "      <td>94280527.00</td>\n",
       "      <td>1363130417.00</td>\n",
       "    </tr>\n",
       "  </tbody>\n",
       "</table>\n",
       "</div>"
      ],
      "text/plain": [
       "                Bearer Id  Dur. (ms)  Total UL (Bytes)  Total DL (Bytes)\n",
       "MSISDN/Number                                                           \n",
       "33601001722.00          1  116720.00       36053108.00      842637466.00\n",
       "33601001754.00          1  181230.00       36104459.00      120755184.00\n",
       "33601002511.00          1  134969.00       39306820.00      556659663.00\n",
       "33601007832.00          1   49878.00       20327526.00      401993172.00\n",
       "33601008617.00          2   37104.00       94280527.00     1363130417.00"
      ]
     },
     "execution_count": 9,
     "metadata": {},
     "output_type": "execute_result"
    }
   ],
   "source": [
    "df_clean = data.copy()\n",
    "aggrigate = {\"Bearer Id\": 'count', 'Dur. (ms)':'sum', 'Total UL (Bytes)': 'sum', 'Total DL (Bytes)': 'sum'}\n",
    "aggrigation_result = df_clean.groupby('MSISDN/Number').agg(aggrigate)\n",
    "aggrigation_result.head()"
   ]
  },
  {
   "cell_type": "markdown",
   "id": "445b6647",
   "metadata": {},
   "source": [
    "Total download and upload of each application"
   ]
  },
  {
   "cell_type": "code",
   "execution_count": null,
   "id": "025bd51a",
   "metadata": {},
   "outputs": [],
   "source": []
  },
  {
   "cell_type": "code",
   "execution_count": null,
   "id": "d28453c0",
   "metadata": {},
   "outputs": [],
   "source": []
  }
 ],
 "metadata": {
  "kernelspec": {
   "display_name": "Python 3",
   "language": "python",
   "name": "python3"
  },
  "language_info": {
   "codemirror_mode": {
    "name": "ipython",
    "version": 3
   },
   "file_extension": ".py",
   "mimetype": "text/x-python",
   "name": "python",
   "nbconvert_exporter": "python",
   "pygments_lexer": "ipython3",
   "version": "3.8.8"
  }
 },
 "nbformat": 4,
 "nbformat_minor": 5
}
