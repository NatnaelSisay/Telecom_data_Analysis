{
 "cells": [
  {
   "cell_type": "code",
   "execution_count": 1,
   "id": "ac37fd4c",
   "metadata": {},
   "outputs": [
    {
     "data": {
      "text/plain": [
       "'\\nTellCo, an existing mobile service provider in the Republic of Pefkakia.\\n\\nThe Data set is **month** of **aggregated data** on **xDR**. \\n\\nThe Goal of this project is to Give insight Wether To buy or \\nLeave the Mobile Service Provider\\n'"
      ]
     },
     "execution_count": 1,
     "metadata": {},
     "output_type": "execute_result"
    }
   ],
   "source": [
    "###### TellCo #######\n",
    "\n",
    "'''\n",
    "TellCo, an existing mobile service provider in the Republic of Pefkakia.\n",
    "\n",
    "The Data set is **month** of **aggregated data** on **xDR**. \n",
    "\n",
    "The Goal of this project is to Give insight Wether To buy or \n",
    "Leave the Mobile Service Provider\n",
    "'''\n"
   ]
  },
  {
   "cell_type": "code",
   "execution_count": 2,
   "id": "4a08b031",
   "metadata": {},
   "outputs": [],
   "source": [
    "# Modules\n",
    "import pandas as pd\n",
    "pd.set_option('max_column', None)\n",
    "\n",
    "import warnings\n",
    "warnings.filterwarnings('ignore')\n",
    "\n",
    "import seaborn as sns\n",
    "import matplotlib.pyplot as plt\n",
    "import numpy as np\n",
    "from sklearn.decomposition import PCA\n",
    "from sklearn.preprocessing import StandardScaler\n",
    "from sklearn import preprocessing\n",
    "from sklearn.cluster import KMeans"
   ]
  },
  {
   "cell_type": "code",
   "execution_count": 3,
   "id": "22530867",
   "metadata": {},
   "outputs": [],
   "source": [
    "# Read File\n",
    "file_name = 'Week1_challenge_data_source.csv'\n",
    "row_file = pd.read_csv(f'../data/{file_name}', na_values=['?','Na','NaN', 'undefined', None])"
   ]
  },
  {
   "cell_type": "markdown",
   "id": "1cd928c8",
   "metadata": {},
   "source": [
    "## Data Overview And Cleaning\n"
   ]
  },
  {
   "cell_type": "markdown",
   "id": "115e8864",
   "metadata": {},
   "source": [
    "### Sample view of dataset"
   ]
  },
  {
   "cell_type": "code",
   "execution_count": 4,
   "id": "2bc37d36",
   "metadata": {},
   "outputs": [
    {
     "data": {
      "text/html": [
       "<div>\n",
       "<style scoped>\n",
       "    .dataframe tbody tr th:only-of-type {\n",
       "        vertical-align: middle;\n",
       "    }\n",
       "\n",
       "    .dataframe tbody tr th {\n",
       "        vertical-align: top;\n",
       "    }\n",
       "\n",
       "    .dataframe thead th {\n",
       "        text-align: right;\n",
       "    }\n",
       "</style>\n",
       "<table border=\"1\" class=\"dataframe\">\n",
       "  <thead>\n",
       "    <tr style=\"text-align: right;\">\n",
       "      <th></th>\n",
       "      <th>Bearer Id</th>\n",
       "      <th>Start</th>\n",
       "      <th>Start ms</th>\n",
       "      <th>End</th>\n",
       "      <th>End ms</th>\n",
       "      <th>Dur. (ms)</th>\n",
       "      <th>IMSI</th>\n",
       "      <th>MSISDN/Number</th>\n",
       "      <th>IMEI</th>\n",
       "      <th>Last Location Name</th>\n",
       "      <th>Avg RTT DL (ms)</th>\n",
       "      <th>Avg RTT UL (ms)</th>\n",
       "      <th>Avg Bearer TP DL (kbps)</th>\n",
       "      <th>Avg Bearer TP UL (kbps)</th>\n",
       "      <th>TCP DL Retrans. Vol (Bytes)</th>\n",
       "      <th>TCP UL Retrans. Vol (Bytes)</th>\n",
       "      <th>DL TP &lt; 50 Kbps (%)</th>\n",
       "      <th>50 Kbps &lt; DL TP &lt; 250 Kbps (%)</th>\n",
       "      <th>250 Kbps &lt; DL TP &lt; 1 Mbps (%)</th>\n",
       "      <th>DL TP &gt; 1 Mbps (%)</th>\n",
       "      <th>UL TP &lt; 10 Kbps (%)</th>\n",
       "      <th>10 Kbps &lt; UL TP &lt; 50 Kbps (%)</th>\n",
       "      <th>50 Kbps &lt; UL TP &lt; 300 Kbps (%)</th>\n",
       "      <th>UL TP &gt; 300 Kbps (%)</th>\n",
       "      <th>HTTP DL (Bytes)</th>\n",
       "      <th>HTTP UL (Bytes)</th>\n",
       "      <th>Activity Duration DL (ms)</th>\n",
       "      <th>Activity Duration UL (ms)</th>\n",
       "      <th>Dur. (ms).1</th>\n",
       "      <th>Handset Manufacturer</th>\n",
       "      <th>Handset Type</th>\n",
       "      <th>Nb of sec with 125000B &lt; Vol DL</th>\n",
       "      <th>Nb of sec with 1250B &lt; Vol UL &lt; 6250B</th>\n",
       "      <th>Nb of sec with 31250B &lt; Vol DL &lt; 125000B</th>\n",
       "      <th>Nb of sec with 37500B &lt; Vol UL</th>\n",
       "      <th>Nb of sec with 6250B &lt; Vol DL &lt; 31250B</th>\n",
       "      <th>Nb of sec with 6250B &lt; Vol UL &lt; 37500B</th>\n",
       "      <th>Nb of sec with Vol DL &lt; 6250B</th>\n",
       "      <th>Nb of sec with Vol UL &lt; 1250B</th>\n",
       "      <th>Social Media DL (Bytes)</th>\n",
       "      <th>Social Media UL (Bytes)</th>\n",
       "      <th>Google DL (Bytes)</th>\n",
       "      <th>Google UL (Bytes)</th>\n",
       "      <th>Email DL (Bytes)</th>\n",
       "      <th>Email UL (Bytes)</th>\n",
       "      <th>Youtube DL (Bytes)</th>\n",
       "      <th>Youtube UL (Bytes)</th>\n",
       "      <th>Netflix DL (Bytes)</th>\n",
       "      <th>Netflix UL (Bytes)</th>\n",
       "      <th>Gaming DL (Bytes)</th>\n",
       "      <th>Gaming UL (Bytes)</th>\n",
       "      <th>Other DL (Bytes)</th>\n",
       "      <th>Other UL (Bytes)</th>\n",
       "      <th>Total UL (Bytes)</th>\n",
       "      <th>Total DL (Bytes)</th>\n",
       "    </tr>\n",
       "  </thead>\n",
       "  <tbody>\n",
       "    <tr>\n",
       "      <th>0</th>\n",
       "      <td>1.311448e+19</td>\n",
       "      <td>4/4/2019 12:01</td>\n",
       "      <td>770.0</td>\n",
       "      <td>4/25/2019 14:35</td>\n",
       "      <td>662.0</td>\n",
       "      <td>1823652.0</td>\n",
       "      <td>2.082014e+14</td>\n",
       "      <td>3.366496e+10</td>\n",
       "      <td>3.552121e+13</td>\n",
       "      <td>9164566995485190</td>\n",
       "      <td>42.0</td>\n",
       "      <td>5.0</td>\n",
       "      <td>23.0</td>\n",
       "      <td>44.0</td>\n",
       "      <td>NaN</td>\n",
       "      <td>NaN</td>\n",
       "      <td>100.0</td>\n",
       "      <td>0.0</td>\n",
       "      <td>0.0</td>\n",
       "      <td>0.0</td>\n",
       "      <td>100.0</td>\n",
       "      <td>0.0</td>\n",
       "      <td>0.0</td>\n",
       "      <td>0.0</td>\n",
       "      <td>NaN</td>\n",
       "      <td>NaN</td>\n",
       "      <td>37624.0</td>\n",
       "      <td>38787.0</td>\n",
       "      <td>1.823653e+09</td>\n",
       "      <td>Samsung</td>\n",
       "      <td>Samsung Galaxy A5 Sm-A520F</td>\n",
       "      <td>NaN</td>\n",
       "      <td>NaN</td>\n",
       "      <td>NaN</td>\n",
       "      <td>NaN</td>\n",
       "      <td>NaN</td>\n",
       "      <td>NaN</td>\n",
       "      <td>213.0</td>\n",
       "      <td>214.0</td>\n",
       "      <td>1545765.0</td>\n",
       "      <td>24420.0</td>\n",
       "      <td>1634479.0</td>\n",
       "      <td>1271433.0</td>\n",
       "      <td>3563542.0</td>\n",
       "      <td>137762.0</td>\n",
       "      <td>15854611.0</td>\n",
       "      <td>2501332.0</td>\n",
       "      <td>8198936.0</td>\n",
       "      <td>9656251.0</td>\n",
       "      <td>278082303.0</td>\n",
       "      <td>14344150.0</td>\n",
       "      <td>171744450.0</td>\n",
       "      <td>8814393.0</td>\n",
       "      <td>36749741.0</td>\n",
       "      <td>308879636.0</td>\n",
       "    </tr>\n",
       "    <tr>\n",
       "      <th>1</th>\n",
       "      <td>1.311448e+19</td>\n",
       "      <td>4/9/2019 13:04</td>\n",
       "      <td>235.0</td>\n",
       "      <td>4/25/2019 8:15</td>\n",
       "      <td>606.0</td>\n",
       "      <td>1365104.0</td>\n",
       "      <td>2.082019e+14</td>\n",
       "      <td>3.368185e+10</td>\n",
       "      <td>3.579401e+13</td>\n",
       "      <td>L77566A</td>\n",
       "      <td>65.0</td>\n",
       "      <td>5.0</td>\n",
       "      <td>16.0</td>\n",
       "      <td>26.0</td>\n",
       "      <td>NaN</td>\n",
       "      <td>NaN</td>\n",
       "      <td>100.0</td>\n",
       "      <td>0.0</td>\n",
       "      <td>0.0</td>\n",
       "      <td>0.0</td>\n",
       "      <td>100.0</td>\n",
       "      <td>0.0</td>\n",
       "      <td>0.0</td>\n",
       "      <td>0.0</td>\n",
       "      <td>NaN</td>\n",
       "      <td>NaN</td>\n",
       "      <td>168.0</td>\n",
       "      <td>3560.0</td>\n",
       "      <td>1.365104e+09</td>\n",
       "      <td>Samsung</td>\n",
       "      <td>Samsung Galaxy J5 (Sm-J530)</td>\n",
       "      <td>NaN</td>\n",
       "      <td>NaN</td>\n",
       "      <td>NaN</td>\n",
       "      <td>NaN</td>\n",
       "      <td>NaN</td>\n",
       "      <td>NaN</td>\n",
       "      <td>971.0</td>\n",
       "      <td>1022.0</td>\n",
       "      <td>1926113.0</td>\n",
       "      <td>7165.0</td>\n",
       "      <td>3493924.0</td>\n",
       "      <td>920172.0</td>\n",
       "      <td>629046.0</td>\n",
       "      <td>308339.0</td>\n",
       "      <td>20247395.0</td>\n",
       "      <td>19111729.0</td>\n",
       "      <td>18338413.0</td>\n",
       "      <td>17227132.0</td>\n",
       "      <td>608750074.0</td>\n",
       "      <td>1170709.0</td>\n",
       "      <td>526904238.0</td>\n",
       "      <td>15055145.0</td>\n",
       "      <td>53800391.0</td>\n",
       "      <td>653384965.0</td>\n",
       "    </tr>\n",
       "    <tr>\n",
       "      <th>2</th>\n",
       "      <td>1.311448e+19</td>\n",
       "      <td>4/9/2019 17:42</td>\n",
       "      <td>1.0</td>\n",
       "      <td>4/25/2019 11:58</td>\n",
       "      <td>652.0</td>\n",
       "      <td>1361762.0</td>\n",
       "      <td>2.082003e+14</td>\n",
       "      <td>3.376063e+10</td>\n",
       "      <td>3.528151e+13</td>\n",
       "      <td>D42335A</td>\n",
       "      <td>NaN</td>\n",
       "      <td>NaN</td>\n",
       "      <td>6.0</td>\n",
       "      <td>9.0</td>\n",
       "      <td>NaN</td>\n",
       "      <td>NaN</td>\n",
       "      <td>100.0</td>\n",
       "      <td>0.0</td>\n",
       "      <td>0.0</td>\n",
       "      <td>0.0</td>\n",
       "      <td>100.0</td>\n",
       "      <td>0.0</td>\n",
       "      <td>0.0</td>\n",
       "      <td>0.0</td>\n",
       "      <td>NaN</td>\n",
       "      <td>NaN</td>\n",
       "      <td>0.0</td>\n",
       "      <td>0.0</td>\n",
       "      <td>1.361763e+09</td>\n",
       "      <td>Samsung</td>\n",
       "      <td>Samsung Galaxy A8 (2018)</td>\n",
       "      <td>NaN</td>\n",
       "      <td>NaN</td>\n",
       "      <td>NaN</td>\n",
       "      <td>NaN</td>\n",
       "      <td>NaN</td>\n",
       "      <td>NaN</td>\n",
       "      <td>751.0</td>\n",
       "      <td>695.0</td>\n",
       "      <td>1684053.0</td>\n",
       "      <td>42224.0</td>\n",
       "      <td>8535055.0</td>\n",
       "      <td>1694064.0</td>\n",
       "      <td>2690151.0</td>\n",
       "      <td>672973.0</td>\n",
       "      <td>19725661.0</td>\n",
       "      <td>14699576.0</td>\n",
       "      <td>17587794.0</td>\n",
       "      <td>6163408.0</td>\n",
       "      <td>229584621.0</td>\n",
       "      <td>395630.0</td>\n",
       "      <td>410692588.0</td>\n",
       "      <td>4215763.0</td>\n",
       "      <td>27883638.0</td>\n",
       "      <td>279807335.0</td>\n",
       "    </tr>\n",
       "    <tr>\n",
       "      <th>3</th>\n",
       "      <td>1.311448e+19</td>\n",
       "      <td>4/10/2019 0:31</td>\n",
       "      <td>486.0</td>\n",
       "      <td>4/25/2019 7:36</td>\n",
       "      <td>171.0</td>\n",
       "      <td>1321509.0</td>\n",
       "      <td>2.082014e+14</td>\n",
       "      <td>3.375034e+10</td>\n",
       "      <td>3.535661e+13</td>\n",
       "      <td>T21824A</td>\n",
       "      <td>NaN</td>\n",
       "      <td>NaN</td>\n",
       "      <td>44.0</td>\n",
       "      <td>44.0</td>\n",
       "      <td>NaN</td>\n",
       "      <td>NaN</td>\n",
       "      <td>100.0</td>\n",
       "      <td>0.0</td>\n",
       "      <td>0.0</td>\n",
       "      <td>0.0</td>\n",
       "      <td>100.0</td>\n",
       "      <td>0.0</td>\n",
       "      <td>0.0</td>\n",
       "      <td>0.0</td>\n",
       "      <td>NaN</td>\n",
       "      <td>NaN</td>\n",
       "      <td>3330.0</td>\n",
       "      <td>37882.0</td>\n",
       "      <td>1.321510e+09</td>\n",
       "      <td>NaN</td>\n",
       "      <td>NaN</td>\n",
       "      <td>NaN</td>\n",
       "      <td>NaN</td>\n",
       "      <td>NaN</td>\n",
       "      <td>NaN</td>\n",
       "      <td>NaN</td>\n",
       "      <td>NaN</td>\n",
       "      <td>17.0</td>\n",
       "      <td>207.0</td>\n",
       "      <td>644121.0</td>\n",
       "      <td>13372.0</td>\n",
       "      <td>9023734.0</td>\n",
       "      <td>2788027.0</td>\n",
       "      <td>1439754.0</td>\n",
       "      <td>631229.0</td>\n",
       "      <td>21388122.0</td>\n",
       "      <td>15146643.0</td>\n",
       "      <td>13994646.0</td>\n",
       "      <td>1097942.0</td>\n",
       "      <td>799538153.0</td>\n",
       "      <td>10849722.0</td>\n",
       "      <td>749039933.0</td>\n",
       "      <td>12797283.0</td>\n",
       "      <td>43324218.0</td>\n",
       "      <td>846028530.0</td>\n",
       "    </tr>\n",
       "    <tr>\n",
       "      <th>4</th>\n",
       "      <td>1.311448e+19</td>\n",
       "      <td>4/12/2019 20:10</td>\n",
       "      <td>565.0</td>\n",
       "      <td>4/25/2019 10:40</td>\n",
       "      <td>954.0</td>\n",
       "      <td>1089009.0</td>\n",
       "      <td>2.082014e+14</td>\n",
       "      <td>3.369980e+10</td>\n",
       "      <td>3.540701e+13</td>\n",
       "      <td>D88865A</td>\n",
       "      <td>NaN</td>\n",
       "      <td>NaN</td>\n",
       "      <td>6.0</td>\n",
       "      <td>9.0</td>\n",
       "      <td>NaN</td>\n",
       "      <td>NaN</td>\n",
       "      <td>100.0</td>\n",
       "      <td>0.0</td>\n",
       "      <td>0.0</td>\n",
       "      <td>0.0</td>\n",
       "      <td>100.0</td>\n",
       "      <td>0.0</td>\n",
       "      <td>0.0</td>\n",
       "      <td>0.0</td>\n",
       "      <td>NaN</td>\n",
       "      <td>NaN</td>\n",
       "      <td>0.0</td>\n",
       "      <td>0.0</td>\n",
       "      <td>1.089009e+09</td>\n",
       "      <td>Samsung</td>\n",
       "      <td>Samsung Sm-G390F</td>\n",
       "      <td>NaN</td>\n",
       "      <td>NaN</td>\n",
       "      <td>NaN</td>\n",
       "      <td>NaN</td>\n",
       "      <td>NaN</td>\n",
       "      <td>NaN</td>\n",
       "      <td>607.0</td>\n",
       "      <td>604.0</td>\n",
       "      <td>862600.0</td>\n",
       "      <td>50188.0</td>\n",
       "      <td>6248284.0</td>\n",
       "      <td>1500559.0</td>\n",
       "      <td>1936496.0</td>\n",
       "      <td>173853.0</td>\n",
       "      <td>15259380.0</td>\n",
       "      <td>18962873.0</td>\n",
       "      <td>17124581.0</td>\n",
       "      <td>415218.0</td>\n",
       "      <td>527707248.0</td>\n",
       "      <td>3529801.0</td>\n",
       "      <td>550709500.0</td>\n",
       "      <td>13910322.0</td>\n",
       "      <td>38542814.0</td>\n",
       "      <td>569138589.0</td>\n",
       "    </tr>\n",
       "  </tbody>\n",
       "</table>\n",
       "</div>"
      ],
      "text/plain": [
       "      Bearer Id            Start  Start ms              End  End ms  \\\n",
       "0  1.311448e+19   4/4/2019 12:01     770.0  4/25/2019 14:35   662.0   \n",
       "1  1.311448e+19   4/9/2019 13:04     235.0   4/25/2019 8:15   606.0   \n",
       "2  1.311448e+19   4/9/2019 17:42       1.0  4/25/2019 11:58   652.0   \n",
       "3  1.311448e+19   4/10/2019 0:31     486.0   4/25/2019 7:36   171.0   \n",
       "4  1.311448e+19  4/12/2019 20:10     565.0  4/25/2019 10:40   954.0   \n",
       "\n",
       "   Dur. (ms)          IMSI  MSISDN/Number          IMEI Last Location Name  \\\n",
       "0  1823652.0  2.082014e+14   3.366496e+10  3.552121e+13   9164566995485190   \n",
       "1  1365104.0  2.082019e+14   3.368185e+10  3.579401e+13            L77566A   \n",
       "2  1361762.0  2.082003e+14   3.376063e+10  3.528151e+13            D42335A   \n",
       "3  1321509.0  2.082014e+14   3.375034e+10  3.535661e+13            T21824A   \n",
       "4  1089009.0  2.082014e+14   3.369980e+10  3.540701e+13            D88865A   \n",
       "\n",
       "   Avg RTT DL (ms)  Avg RTT UL (ms)  Avg Bearer TP DL (kbps)  \\\n",
       "0             42.0              5.0                     23.0   \n",
       "1             65.0              5.0                     16.0   \n",
       "2              NaN              NaN                      6.0   \n",
       "3              NaN              NaN                     44.0   \n",
       "4              NaN              NaN                      6.0   \n",
       "\n",
       "   Avg Bearer TP UL (kbps)  TCP DL Retrans. Vol (Bytes)  \\\n",
       "0                     44.0                          NaN   \n",
       "1                     26.0                          NaN   \n",
       "2                      9.0                          NaN   \n",
       "3                     44.0                          NaN   \n",
       "4                      9.0                          NaN   \n",
       "\n",
       "   TCP UL Retrans. Vol (Bytes)  DL TP < 50 Kbps (%)  \\\n",
       "0                          NaN                100.0   \n",
       "1                          NaN                100.0   \n",
       "2                          NaN                100.0   \n",
       "3                          NaN                100.0   \n",
       "4                          NaN                100.0   \n",
       "\n",
       "   50 Kbps < DL TP < 250 Kbps (%)  250 Kbps < DL TP < 1 Mbps (%)  \\\n",
       "0                             0.0                            0.0   \n",
       "1                             0.0                            0.0   \n",
       "2                             0.0                            0.0   \n",
       "3                             0.0                            0.0   \n",
       "4                             0.0                            0.0   \n",
       "\n",
       "   DL TP > 1 Mbps (%)  UL TP < 10 Kbps (%)  10 Kbps < UL TP < 50 Kbps (%)  \\\n",
       "0                 0.0                100.0                            0.0   \n",
       "1                 0.0                100.0                            0.0   \n",
       "2                 0.0                100.0                            0.0   \n",
       "3                 0.0                100.0                            0.0   \n",
       "4                 0.0                100.0                            0.0   \n",
       "\n",
       "   50 Kbps < UL TP < 300 Kbps (%)  UL TP > 300 Kbps (%)  HTTP DL (Bytes)  \\\n",
       "0                             0.0                   0.0              NaN   \n",
       "1                             0.0                   0.0              NaN   \n",
       "2                             0.0                   0.0              NaN   \n",
       "3                             0.0                   0.0              NaN   \n",
       "4                             0.0                   0.0              NaN   \n",
       "\n",
       "   HTTP UL (Bytes)  Activity Duration DL (ms)  Activity Duration UL (ms)  \\\n",
       "0              NaN                    37624.0                    38787.0   \n",
       "1              NaN                      168.0                     3560.0   \n",
       "2              NaN                        0.0                        0.0   \n",
       "3              NaN                     3330.0                    37882.0   \n",
       "4              NaN                        0.0                        0.0   \n",
       "\n",
       "    Dur. (ms).1 Handset Manufacturer                 Handset Type  \\\n",
       "0  1.823653e+09              Samsung   Samsung Galaxy A5 Sm-A520F   \n",
       "1  1.365104e+09              Samsung  Samsung Galaxy J5 (Sm-J530)   \n",
       "2  1.361763e+09              Samsung     Samsung Galaxy A8 (2018)   \n",
       "3  1.321510e+09                  NaN                          NaN   \n",
       "4  1.089009e+09              Samsung             Samsung Sm-G390F   \n",
       "\n",
       "   Nb of sec with 125000B < Vol DL  Nb of sec with 1250B < Vol UL < 6250B  \\\n",
       "0                              NaN                                    NaN   \n",
       "1                              NaN                                    NaN   \n",
       "2                              NaN                                    NaN   \n",
       "3                              NaN                                    NaN   \n",
       "4                              NaN                                    NaN   \n",
       "\n",
       "   Nb of sec with 31250B < Vol DL < 125000B  Nb of sec with 37500B < Vol UL  \\\n",
       "0                                       NaN                             NaN   \n",
       "1                                       NaN                             NaN   \n",
       "2                                       NaN                             NaN   \n",
       "3                                       NaN                             NaN   \n",
       "4                                       NaN                             NaN   \n",
       "\n",
       "   Nb of sec with 6250B < Vol DL < 31250B  \\\n",
       "0                                     NaN   \n",
       "1                                     NaN   \n",
       "2                                     NaN   \n",
       "3                                     NaN   \n",
       "4                                     NaN   \n",
       "\n",
       "   Nb of sec with 6250B < Vol UL < 37500B  Nb of sec with Vol DL < 6250B  \\\n",
       "0                                     NaN                          213.0   \n",
       "1                                     NaN                          971.0   \n",
       "2                                     NaN                          751.0   \n",
       "3                                     NaN                           17.0   \n",
       "4                                     NaN                          607.0   \n",
       "\n",
       "   Nb of sec with Vol UL < 1250B  Social Media DL (Bytes)  \\\n",
       "0                          214.0                1545765.0   \n",
       "1                         1022.0                1926113.0   \n",
       "2                          695.0                1684053.0   \n",
       "3                          207.0                 644121.0   \n",
       "4                          604.0                 862600.0   \n",
       "\n",
       "   Social Media UL (Bytes)  Google DL (Bytes)  Google UL (Bytes)  \\\n",
       "0                  24420.0          1634479.0          1271433.0   \n",
       "1                   7165.0          3493924.0           920172.0   \n",
       "2                  42224.0          8535055.0          1694064.0   \n",
       "3                  13372.0          9023734.0          2788027.0   \n",
       "4                  50188.0          6248284.0          1500559.0   \n",
       "\n",
       "   Email DL (Bytes)  Email UL (Bytes)  Youtube DL (Bytes)  Youtube UL (Bytes)  \\\n",
       "0         3563542.0          137762.0          15854611.0           2501332.0   \n",
       "1          629046.0          308339.0          20247395.0          19111729.0   \n",
       "2         2690151.0          672973.0          19725661.0          14699576.0   \n",
       "3         1439754.0          631229.0          21388122.0          15146643.0   \n",
       "4         1936496.0          173853.0          15259380.0          18962873.0   \n",
       "\n",
       "   Netflix DL (Bytes)  Netflix UL (Bytes)  Gaming DL (Bytes)  \\\n",
       "0           8198936.0           9656251.0        278082303.0   \n",
       "1          18338413.0          17227132.0        608750074.0   \n",
       "2          17587794.0           6163408.0        229584621.0   \n",
       "3          13994646.0           1097942.0        799538153.0   \n",
       "4          17124581.0            415218.0        527707248.0   \n",
       "\n",
       "   Gaming UL (Bytes)  Other DL (Bytes)  Other UL (Bytes)  Total UL (Bytes)  \\\n",
       "0         14344150.0       171744450.0         8814393.0        36749741.0   \n",
       "1          1170709.0       526904238.0        15055145.0        53800391.0   \n",
       "2           395630.0       410692588.0         4215763.0        27883638.0   \n",
       "3         10849722.0       749039933.0        12797283.0        43324218.0   \n",
       "4          3529801.0       550709500.0        13910322.0        38542814.0   \n",
       "\n",
       "   Total DL (Bytes)  \n",
       "0       308879636.0  \n",
       "1       653384965.0  \n",
       "2       279807335.0  \n",
       "3       846028530.0  \n",
       "4       569138589.0  "
      ]
     },
     "execution_count": 4,
     "metadata": {},
     "output_type": "execute_result"
    }
   ],
   "source": [
    "df = row_file # Need this for future use\n",
    "df.head()"
   ]
  },
  {
   "cell_type": "code",
   "execution_count": null,
   "id": "42aa41b8",
   "metadata": {},
   "outputs": [],
   "source": []
  },
  {
   "cell_type": "code",
   "execution_count": 5,
   "id": "a9a179c3",
   "metadata": {},
   "outputs": [
    {
     "name": "stdout",
     "output_type": "stream",
     "text": [
      "Data Frame Contains 150001 rows and 55 columns\n"
     ]
    }
   ],
   "source": [
    "print(f'Data Frame Contains {df.shape[0]} rows and {df.shape[1]} columns')"
   ]
  },
  {
   "cell_type": "markdown",
   "id": "69d341b0",
   "metadata": {},
   "source": [
    "### How much of the data is Null ? "
   ]
  },
  {
   "cell_type": "code",
   "execution_count": 6,
   "id": "04713518",
   "metadata": {},
   "outputs": [
    {
     "name": "stdout",
     "output_type": "stream",
     "text": [
      "Data Fraame contain null values of 12.72%\n"
     ]
    }
   ],
   "source": [
    "def null_percentage(df):\n",
    "    number_of_rows, number_of_columns = df.shape\n",
    "    df_size = number_of_rows * number_of_columns\n",
    "    \n",
    "    null_size = (df.isnull().sum()).sum()\n",
    "    percentage = round((null_size / df_size) * 100, 2)\n",
    "    print(f\"Data Fraame contain null values of { percentage }%\")\n",
    "\n",
    "null_percentage(df)"
   ]
  },
  {
   "cell_type": "markdown",
   "id": "e68004a9",
   "metadata": {},
   "source": [
    "### Dataset Info"
   ]
  },
  {
   "cell_type": "code",
   "execution_count": 7,
   "id": "3960fe8d",
   "metadata": {},
   "outputs": [
    {
     "name": "stdout",
     "output_type": "stream",
     "text": [
      "<class 'pandas.core.frame.DataFrame'>\n",
      "RangeIndex: 150001 entries, 0 to 150000\n",
      "Data columns (total 55 columns):\n",
      " #   Column                                    Non-Null Count   Dtype  \n",
      "---  ------                                    --------------   -----  \n",
      " 0   Bearer Id                                 149010 non-null  float64\n",
      " 1   Start                                     150000 non-null  object \n",
      " 2   Start ms                                  150000 non-null  float64\n",
      " 3   End                                       150000 non-null  object \n",
      " 4   End ms                                    150000 non-null  float64\n",
      " 5   Dur. (ms)                                 150000 non-null  float64\n",
      " 6   IMSI                                      149431 non-null  float64\n",
      " 7   MSISDN/Number                             148935 non-null  float64\n",
      " 8   IMEI                                      149429 non-null  float64\n",
      " 9   Last Location Name                        148848 non-null  object \n",
      " 10  Avg RTT DL (ms)                           122172 non-null  float64\n",
      " 11  Avg RTT UL (ms)                           122189 non-null  float64\n",
      " 12  Avg Bearer TP DL (kbps)                   150000 non-null  float64\n",
      " 13  Avg Bearer TP UL (kbps)                   150000 non-null  float64\n",
      " 14  TCP DL Retrans. Vol (Bytes)               61855 non-null   float64\n",
      " 15  TCP UL Retrans. Vol (Bytes)               53352 non-null   float64\n",
      " 16  DL TP < 50 Kbps (%)                       149247 non-null  float64\n",
      " 17  50 Kbps < DL TP < 250 Kbps (%)            149247 non-null  float64\n",
      " 18  250 Kbps < DL TP < 1 Mbps (%)             149247 non-null  float64\n",
      " 19  DL TP > 1 Mbps (%)                        149247 non-null  float64\n",
      " 20  UL TP < 10 Kbps (%)                       149209 non-null  float64\n",
      " 21  10 Kbps < UL TP < 50 Kbps (%)             149209 non-null  float64\n",
      " 22  50 Kbps < UL TP < 300 Kbps (%)            149209 non-null  float64\n",
      " 23  UL TP > 300 Kbps (%)                      149209 non-null  float64\n",
      " 24  HTTP DL (Bytes)                           68527 non-null   float64\n",
      " 25  HTTP UL (Bytes)                           68191 non-null   float64\n",
      " 26  Activity Duration DL (ms)                 150000 non-null  float64\n",
      " 27  Activity Duration UL (ms)                 150000 non-null  float64\n",
      " 28  Dur. (ms).1                               150000 non-null  float64\n",
      " 29  Handset Manufacturer                      140442 non-null  object \n",
      " 30  Handset Type                              140442 non-null  object \n",
      " 31  Nb of sec with 125000B < Vol DL           52463 non-null   float64\n",
      " 32  Nb of sec with 1250B < Vol UL < 6250B     57107 non-null   float64\n",
      " 33  Nb of sec with 31250B < Vol DL < 125000B  56415 non-null   float64\n",
      " 34  Nb of sec with 37500B < Vol UL            19747 non-null   float64\n",
      " 35  Nb of sec with 6250B < Vol DL < 31250B    61684 non-null   float64\n",
      " 36  Nb of sec with 6250B < Vol UL < 37500B    38158 non-null   float64\n",
      " 37  Nb of sec with Vol DL < 6250B             149246 non-null  float64\n",
      " 38  Nb of sec with Vol UL < 1250B             149208 non-null  float64\n",
      " 39  Social Media DL (Bytes)                   150001 non-null  float64\n",
      " 40  Social Media UL (Bytes)                   150001 non-null  float64\n",
      " 41  Google DL (Bytes)                         150001 non-null  float64\n",
      " 42  Google UL (Bytes)                         150001 non-null  float64\n",
      " 43  Email DL (Bytes)                          150001 non-null  float64\n",
      " 44  Email UL (Bytes)                          150001 non-null  float64\n",
      " 45  Youtube DL (Bytes)                        150001 non-null  float64\n",
      " 46  Youtube UL (Bytes)                        150001 non-null  float64\n",
      " 47  Netflix DL (Bytes)                        150001 non-null  float64\n",
      " 48  Netflix UL (Bytes)                        150001 non-null  float64\n",
      " 49  Gaming DL (Bytes)                         150001 non-null  float64\n",
      " 50  Gaming UL (Bytes)                         150001 non-null  float64\n",
      " 51  Other DL (Bytes)                          150001 non-null  float64\n",
      " 52  Other UL (Bytes)                          150001 non-null  float64\n",
      " 53  Total UL (Bytes)                          150000 non-null  float64\n",
      " 54  Total DL (Bytes)                          150000 non-null  float64\n",
      "dtypes: float64(50), object(5)\n",
      "memory usage: 62.9+ MB\n"
     ]
    }
   ],
   "source": [
    "df.info()"
   ]
  },
  {
   "cell_type": "code",
   "execution_count": null,
   "id": "f43d0766",
   "metadata": {},
   "outputs": [],
   "source": []
  },
  {
   "cell_type": "markdown",
   "id": "72da629e",
   "metadata": {},
   "source": [
    "#### Columns Null Values"
   ]
  },
  {
   "cell_type": "code",
   "execution_count": 8,
   "id": "81ad72f3",
   "metadata": {},
   "outputs": [
    {
     "data": {
      "text/plain": [
       "Bearer Id                                      991\n",
       "Start                                            1\n",
       "Start ms                                         1\n",
       "End                                              1\n",
       "End ms                                           1\n",
       "Dur. (ms)                                        1\n",
       "IMSI                                           570\n",
       "MSISDN/Number                                 1066\n",
       "IMEI                                           572\n",
       "Last Location Name                            1153\n",
       "Avg RTT DL (ms)                              27829\n",
       "Avg RTT UL (ms)                              27812\n",
       "Avg Bearer TP DL (kbps)                          1\n",
       "Avg Bearer TP UL (kbps)                          1\n",
       "TCP DL Retrans. Vol (Bytes)                  88146\n",
       "TCP UL Retrans. Vol (Bytes)                  96649\n",
       "DL TP < 50 Kbps (%)                            754\n",
       "50 Kbps < DL TP < 250 Kbps (%)                 754\n",
       "250 Kbps < DL TP < 1 Mbps (%)                  754\n",
       "DL TP > 1 Mbps (%)                             754\n",
       "UL TP < 10 Kbps (%)                            792\n",
       "10 Kbps < UL TP < 50 Kbps (%)                  792\n",
       "50 Kbps < UL TP < 300 Kbps (%)                 792\n",
       "UL TP > 300 Kbps (%)                           792\n",
       "HTTP DL (Bytes)                              81474\n",
       "HTTP UL (Bytes)                              81810\n",
       "Activity Duration DL (ms)                        1\n",
       "Activity Duration UL (ms)                        1\n",
       "Dur. (ms).1                                      1\n",
       "Handset Manufacturer                          9559\n",
       "Handset Type                                  9559\n",
       "Nb of sec with 125000B < Vol DL              97538\n",
       "Nb of sec with 1250B < Vol UL < 6250B        92894\n",
       "Nb of sec with 31250B < Vol DL < 125000B     93586\n",
       "Nb of sec with 37500B < Vol UL              130254\n",
       "Nb of sec with 6250B < Vol DL < 31250B       88317\n",
       "Nb of sec with 6250B < Vol UL < 37500B      111843\n",
       "Nb of sec with Vol DL < 6250B                  755\n",
       "Nb of sec with Vol UL < 1250B                  793\n",
       "Social Media DL (Bytes)                          0\n",
       "Social Media UL (Bytes)                          0\n",
       "Google DL (Bytes)                                0\n",
       "Google UL (Bytes)                                0\n",
       "Email DL (Bytes)                                 0\n",
       "Email UL (Bytes)                                 0\n",
       "Youtube DL (Bytes)                               0\n",
       "Youtube UL (Bytes)                               0\n",
       "Netflix DL (Bytes)                               0\n",
       "Netflix UL (Bytes)                               0\n",
       "Gaming DL (Bytes)                                0\n",
       "Gaming UL (Bytes)                                0\n",
       "Other DL (Bytes)                                 0\n",
       "Other UL (Bytes)                                 0\n",
       "Total UL (Bytes)                                 1\n",
       "Total DL (Bytes)                                 1\n",
       "dtype: int64"
      ]
     },
     "execution_count": 8,
     "metadata": {},
     "output_type": "execute_result"
    }
   ],
   "source": [
    "df.isnull().sum()"
   ]
  },
  {
   "cell_type": "markdown",
   "id": "7674d523",
   "metadata": {},
   "source": [
    "### Data Cleaning"
   ]
  },
  {
   "cell_type": "markdown",
   "id": "ed48914a",
   "metadata": {},
   "source": [
    "**I plan to drop rows with Null 'Bearer Id' and 'MSISDN/Number' thinkig they were unique But that is not the case**"
   ]
  },
  {
   "cell_type": "code",
   "execution_count": 9,
   "id": "55e2a9d1",
   "metadata": {},
   "outputs": [],
   "source": [
    "df['Bearer Id'].value_counts()\n",
    "df['MSISDN/Number'].value_counts()\n",
    "df.dropna(subset=['Bearer Id', 'MSISDN/Number'], inplace=True)"
   ]
  },
  {
   "cell_type": "code",
   "execution_count": 10,
   "id": "0e1a82f9",
   "metadata": {
    "scrolled": true
   },
   "outputs": [
    {
     "data": {
      "text/plain": [
       "Bearer Id                                        0\n",
       "Start                                            0\n",
       "Start ms                                         0\n",
       "End                                              0\n",
       "End ms                                           0\n",
       "Dur. (ms)                                        0\n",
       "IMSI                                             0\n",
       "MSISDN/Number                                    0\n",
       "IMEI                                             0\n",
       "Last Location Name                             160\n",
       "Avg RTT DL (ms)                              27636\n",
       "Avg RTT UL (ms)                              27616\n",
       "Avg Bearer TP DL (kbps)                          0\n",
       "Avg Bearer TP UL (kbps)                          0\n",
       "TCP DL Retrans. Vol (Bytes)                  87764\n",
       "TCP UL Retrans. Vol (Bytes)                  96128\n",
       "DL TP < 50 Kbps (%)                            712\n",
       "50 Kbps < DL TP < 250 Kbps (%)                 712\n",
       "250 Kbps < DL TP < 1 Mbps (%)                  712\n",
       "DL TP > 1 Mbps (%)                             712\n",
       "UL TP < 10 Kbps (%)                            767\n",
       "10 Kbps < UL TP < 50 Kbps (%)                  767\n",
       "50 Kbps < UL TP < 300 Kbps (%)                 767\n",
       "UL TP > 300 Kbps (%)                           767\n",
       "HTTP DL (Bytes)                              81129\n",
       "HTTP UL (Bytes)                              81475\n",
       "Activity Duration DL (ms)                        0\n",
       "Activity Duration UL (ms)                        0\n",
       "Dur. (ms).1                                      0\n",
       "Handset Manufacturer                          8904\n",
       "Handset Type                                  8904\n",
       "Nb of sec with 125000B < Vol DL              96775\n",
       "Nb of sec with 1250B < Vol UL < 6250B        92269\n",
       "Nb of sec with 31250B < Vol DL < 125000B     92978\n",
       "Nb of sec with 37500B < Vol UL              128950\n",
       "Nb of sec with 6250B < Vol DL < 31250B       87838\n",
       "Nb of sec with 6250B < Vol UL < 37500B      110803\n",
       "Nb of sec with Vol DL < 6250B                  713\n",
       "Nb of sec with Vol UL < 1250B                  768\n",
       "Social Media DL (Bytes)                          0\n",
       "Social Media UL (Bytes)                          0\n",
       "Google DL (Bytes)                                0\n",
       "Google UL (Bytes)                                0\n",
       "Email DL (Bytes)                                 0\n",
       "Email UL (Bytes)                                 0\n",
       "Youtube DL (Bytes)                               0\n",
       "Youtube UL (Bytes)                               0\n",
       "Netflix DL (Bytes)                               0\n",
       "Netflix UL (Bytes)                               0\n",
       "Gaming DL (Bytes)                                0\n",
       "Gaming UL (Bytes)                                0\n",
       "Other DL (Bytes)                                 0\n",
       "Other UL (Bytes)                                 0\n",
       "Total UL (Bytes)                                 0\n",
       "Total DL (Bytes)                                 0\n",
       "dtype: int64"
      ]
     },
     "execution_count": 10,
     "metadata": {},
     "output_type": "execute_result"
    }
   ],
   "source": [
    "df.isnull().sum()"
   ]
  },
  {
   "cell_type": "markdown",
   "id": "a5f107e9",
   "metadata": {},
   "source": [
    "#### Drop columns with more than 30% null Values"
   ]
  },
  {
   "cell_type": "code",
   "execution_count": 11,
   "id": "f4c66ddd",
   "metadata": {},
   "outputs": [
    {
     "name": "stdout",
     "output_type": "stream",
     "text": [
      "['TCP DL Retrans. Vol (Bytes)', 'TCP UL Retrans. Vol (Bytes)', 'HTTP DL (Bytes)', 'HTTP UL (Bytes)', 'Nb of sec with 125000B < Vol DL', 'Nb of sec with 1250B < Vol UL < 6250B', 'Nb of sec with 31250B < Vol DL < 125000B', 'Nb of sec with 37500B < Vol UL', 'Nb of sec with 6250B < Vol DL < 31250B', 'Nb of sec with 6250B < Vol UL < 37500B']\n",
      "Shape After Droping columns with more than 30% Null\n",
      "rows: 148506\tcolumns:45\n"
     ]
    }
   ],
   "source": [
    "def drop_column_with_many_null(df):\n",
    "    df_size = df.shape[0]\n",
    "    \n",
    "    columns_list = df.columns\n",
    "    bad_columns = []\n",
    "    \n",
    "    for column in columns_list:\n",
    "        null_per_column = df[column].isnull().sum()\n",
    "        percentage = round( (null_per_column / df_size) * 100 , 2)\n",
    "        \n",
    "        if(percentage > 30):\n",
    "            bad_columns.append(column)\n",
    "            \n",
    "    return bad_columns\n",
    "\n",
    "bad_columns = drop_column_with_many_null(df)\n",
    "print(bad_columns)\n",
    "df_clean = df.drop(bad_columns, axis=1)\n",
    "\n",
    "shape = df_clean.shape\n",
    "print(\"Shape After Droping columns with more than 30% Null\")\n",
    "print(f\"rows: {shape[0]}\\tcolumns:{shape[1]}\")"
   ]
  },
  {
   "cell_type": "code",
   "execution_count": null,
   "id": "209ff184",
   "metadata": {},
   "outputs": [],
   "source": []
  },
  {
   "cell_type": "markdown",
   "id": "a0ff322a",
   "metadata": {},
   "source": [
    "#### Fill Columns of Object with Mode"
   ]
  },
  {
   "cell_type": "code",
   "execution_count": 12,
   "id": "32a61b2a",
   "metadata": {},
   "outputs": [],
   "source": [
    "columns_object_type = ['Start', 'End', 'Last Location Name', 'Handset Manufacturer', 'Handset Type']\n",
    "\n",
    "for column in columns_object_type:\n",
    "    mode = df_clean[column].mode()[0]\n",
    "    df_clean[column] = df_clean[column].fillna(mode)"
   ]
  },
  {
   "cell_type": "markdown",
   "id": "4315c23b",
   "metadata": {},
   "source": [
    "#### Fill Positive and Negative Skew columns with Median"
   ]
  },
  {
   "cell_type": "markdown",
   "id": "505496ff",
   "metadata": {},
   "source": [
    "#### Fill Columns with skew of ( 0 ) with Mean or Median"
   ]
  },
  {
   "cell_type": "code",
   "execution_count": 13,
   "id": "d1c25bbc",
   "metadata": {},
   "outputs": [],
   "source": [
    "## i could get away by filling them all with Median\n",
    "for column in df_clean.columns:\n",
    "    # if column have null value fill \n",
    "    if(df[column].isnull().sum() > 0):\n",
    "        mode = df_clean[column].mode()[0]\n",
    "        df_clean[column] = df_clean[column].fillna(mode)"
   ]
  },
  {
   "cell_type": "code",
   "execution_count": 14,
   "id": "c5e6442a",
   "metadata": {},
   "outputs": [
    {
     "data": {
      "text/plain": [
       "Bearer Id                         0\n",
       "Start                             0\n",
       "Start ms                          0\n",
       "End                               0\n",
       "End ms                            0\n",
       "Dur. (ms)                         0\n",
       "IMSI                              0\n",
       "MSISDN/Number                     0\n",
       "IMEI                              0\n",
       "Last Location Name                0\n",
       "Avg RTT DL (ms)                   0\n",
       "Avg RTT UL (ms)                   0\n",
       "Avg Bearer TP DL (kbps)           0\n",
       "Avg Bearer TP UL (kbps)           0\n",
       "DL TP < 50 Kbps (%)               0\n",
       "50 Kbps < DL TP < 250 Kbps (%)    0\n",
       "250 Kbps < DL TP < 1 Mbps (%)     0\n",
       "DL TP > 1 Mbps (%)                0\n",
       "UL TP < 10 Kbps (%)               0\n",
       "10 Kbps < UL TP < 50 Kbps (%)     0\n",
       "50 Kbps < UL TP < 300 Kbps (%)    0\n",
       "UL TP > 300 Kbps (%)              0\n",
       "Activity Duration DL (ms)         0\n",
       "Activity Duration UL (ms)         0\n",
       "Dur. (ms).1                       0\n",
       "Handset Manufacturer              0\n",
       "Handset Type                      0\n",
       "Nb of sec with Vol DL < 6250B     0\n",
       "Nb of sec with Vol UL < 1250B     0\n",
       "Social Media DL (Bytes)           0\n",
       "Social Media UL (Bytes)           0\n",
       "Google DL (Bytes)                 0\n",
       "Google UL (Bytes)                 0\n",
       "Email DL (Bytes)                  0\n",
       "Email UL (Bytes)                  0\n",
       "Youtube DL (Bytes)                0\n",
       "Youtube UL (Bytes)                0\n",
       "Netflix DL (Bytes)                0\n",
       "Netflix UL (Bytes)                0\n",
       "Gaming DL (Bytes)                 0\n",
       "Gaming UL (Bytes)                 0\n",
       "Other DL (Bytes)                  0\n",
       "Other UL (Bytes)                  0\n",
       "Total UL (Bytes)                  0\n",
       "Total DL (Bytes)                  0\n",
       "dtype: int64"
      ]
     },
     "execution_count": 14,
     "metadata": {},
     "output_type": "execute_result"
    }
   ],
   "source": [
    "df_clean.isnull().sum()"
   ]
  },
  {
   "cell_type": "code",
   "execution_count": 15,
   "id": "35b1b375",
   "metadata": {},
   "outputs": [
    {
     "name": "stdout",
     "output_type": "stream",
     "text": [
      "Data Fraame contain null values of 0.0%\n"
     ]
    }
   ],
   "source": [
    "null_percentage(df_clean)"
   ]
  },
  {
   "cell_type": "code",
   "execution_count": 16,
   "id": "86265ee5",
   "metadata": {},
   "outputs": [],
   "source": [
    "###################################PLOTTING FUNCTIONS###################################\n",
    "\n",
    "def plot_hist(df:pd.DataFrame, column:str, color:str)->None:\n",
    "    # plt.figure(figsize=(15, 10))\n",
    "    # fig, ax = plt.subplots(1, figsize=(12, 7))\n",
    "    sns.displot(data=df, x=column, color=color, kde=True, height=7, aspect=2)\n",
    "    plt.title(f'Distribution of {column}', size=20, fontweight='bold')\n",
    "    plt.show()\n",
    "\n",
    "def plot_count(df:pd.DataFrame, column:str) -> None:\n",
    "    plt.figure(figsize=(12, 7))\n",
    "    sns.countplot(data=df, x=column)\n",
    "    plt.title(f'Distribution of {column}', size=20, fontweight='bold')\n",
    "    plt.show()\n",
    "    \n",
    "def plot_bar(df:pd.DataFrame, x_col:str, y_col:str, title:str, xlabel:str, ylabel:str)->None:\n",
    "    plt.figure(figsize=(12, 7))\n",
    "    sns.barplot(data = df, x=x_col, y=y_col)\n",
    "    plt.title(title, size=20)\n",
    "    plt.xticks(rotation=75, fontsize=14)\n",
    "    plt.yticks( fontsize=14)\n",
    "    plt.xlabel(xlabel, fontsize=16)\n",
    "    plt.ylabel(ylabel, fontsize=16)\n",
    "    plt.show()\n",
    "\n",
    "def plot_heatmap(df:pd.DataFrame, title:str, cbar=False)->None:\n",
    "    plt.figure(figsize=(12, 7))\n",
    "    sns.heatmap(df, annot=True, cmap='viridis', vmin=0, vmax=1, fmt='.2f', linewidths=.7, cbar=cbar )\n",
    "    plt.title(title, size=18, fontweight='bold')\n",
    "    plt.show()\n",
    "\n",
    "def plot_box(df:pd.DataFrame, x_col:str, title:str) -> None:\n",
    "    plt.figure(figsize=(12, 7))\n",
    "    sns.boxplot(data = df, x=x_col)\n",
    "    plt.title(title, size=20)\n",
    "    plt.xticks(rotation=75, fontsize=14)\n",
    "    plt.show()\n",
    "\n",
    "def plot_box_multi(df:pd.DataFrame, x_col:str, y_col:str, title:str) -> None:\n",
    "    plt.figure(figsize=(12, 7))\n",
    "    sns.boxplot(data = df, x=x_col, y=y_col)\n",
    "    plt.title(title, size=20)\n",
    "    plt.xticks(rotation=75, fontsize=14)\n",
    "    plt.yticks( fontsize=14)\n",
    "    plt.show()\n",
    "\n",
    "def plot_scatter(df: pd.DataFrame, x_col: str, y_col: str, title: str, hue: str, style: str) -> None:\n",
    "    plt.figure(figsize=(12, 7))\n",
    "    sns.scatterplot(data = df, x=x_col, y=y_col, hue=hue)\n",
    "    plt.title(title, size=20)\n",
    "    plt.xticks(fontsize=14)\n",
    "    plt.yticks( fontsize=14)\n",
    "    plt.show()\n",
    "\n",
    "def format_float(value):\n",
    "    return f'{value:,.2f}'\n",
    "\n",
    "def fix_outlier(df, column):\n",
    "    df[column] = np.where(df[column] > df[column].quantile(0.95), df[column].median(),df[column])\n",
    "    \n",
    "    return df[column]\n",
    "\n",
    "\n",
    "pd.options.display.float_format = format_float\n"
   ]
  },
  {
   "cell_type": "markdown",
   "id": "9b0aa9f9",
   "metadata": {},
   "source": [
    "### Fix outliers of each columns"
   ]
  },
  {
   "cell_type": "code",
   "execution_count": 17,
   "id": "fa1754b8",
   "metadata": {},
   "outputs": [],
   "source": [
    "# columns_object_type = ['Start', 'End', 'Last Location Name', 'Handset Manufacturer', 'Handset Type']\n",
    "# for column in df_clean.columns:\n",
    "#     if(column not in columns_object_type):\n",
    "#         df_clean[column] = fix_outlier(df_clean, column)\n"
   ]
  },
  {
   "cell_type": "code",
   "execution_count": null,
   "id": "640822fe",
   "metadata": {},
   "outputs": [],
   "source": []
  },
  {
   "cell_type": "code",
   "execution_count": null,
   "id": "b1a84589",
   "metadata": {},
   "outputs": [],
   "source": []
  },
  {
   "cell_type": "markdown",
   "id": "889739f8",
   "metadata": {},
   "source": [
    "Sub-Task\n",
    "1. Start by identifying the top 10 handsets used by the customers.\n",
    "2. Then, identify the top 3 handset manufacturers\n",
    "3. Next, identify the top 5 handsets per top 3 handset manufacturer\n",
    "4. Make a short interpretation and recommendation to marketing teams\n"
   ]
  },
  {
   "cell_type": "code",
   "execution_count": 18,
   "id": "2b23216d",
   "metadata": {},
   "outputs": [
    {
     "data": {
      "text/plain": [
       "Handset Type\n",
       "Huawei B528S-23A                17266\n",
       "Apple iPhone 6S (A1688)          6744\n",
       "Apple iPhone 6 (A1586)           6245\n",
       "Apple iPhone 7 (A1778)           4675\n",
       "Apple iPhone Se (A1723)          3744\n",
       "Apple iPhone 8 (A1905)           3535\n",
       "Samsung Galaxy S8 (Sm-G950F)     3232\n",
       "Apple iPhone Xr (A2105)          3067\n",
       "Samsung Galaxy J5 (Sm-J530)      2741\n",
       "Samsung Galaxy A5 Sm-A520F       2701\n",
       "Name: MSISDN/Number, dtype: int64"
      ]
     },
     "execution_count": 18,
     "metadata": {},
     "output_type": "execute_result"
    }
   ],
   "source": [
    "top_10_handset = df_clean.groupby(\"Handset Type\")['MSISDN/Number'].nunique().nlargest(10)\n",
    "top_10_handset"
   ]
  },
  {
   "cell_type": "code",
   "execution_count": 19,
   "id": "f681d9d5",
   "metadata": {},
   "outputs": [
    {
     "data": {
      "text/plain": [
       "Handset Manufacturer\n",
       "Apple      49127\n",
       "Samsung    30647\n",
       "Huawei     21628\n",
       "Name: MSISDN/Number, dtype: int64"
      ]
     },
     "execution_count": 19,
     "metadata": {},
     "output_type": "execute_result"
    }
   ],
   "source": [
    "top_3_manufacturers = df_clean.groupby(\"Handset Manufacturer\")['MSISDN/Number'].nunique().nlargest(3)\n",
    "top_3_manufacturers"
   ]
  },
  {
   "cell_type": "code",
   "execution_count": 20,
   "id": "2805cad3",
   "metadata": {},
   "outputs": [
    {
     "name": "stdout",
     "output_type": "stream",
     "text": [
      "**** Apple ***\n",
      "Handset Type\n",
      "Apple iPhone 6S (A1688)    6744\n",
      "Huawei B528S-23A           6650\n",
      "Apple iPhone 6 (A1586)     6245\n",
      "Apple iPhone 7 (A1778)     4675\n",
      "Apple iPhone Se (A1723)    3744\n",
      "Name: MSISDN/Number, dtype: int64\n",
      "\n",
      "**** Samsung **\n",
      "Handset Type\n",
      "Samsung Galaxy S8 (Sm-G950F)    3232\n",
      "Samsung Galaxy J5 (Sm-J530)     2741\n",
      "Samsung Galaxy A5 Sm-A520F      2701\n",
      "Samsung Galaxy J3 (Sm-J330)     2582\n",
      "Samsung Galaxy S7 (Sm-G930X)    2288\n",
      "Name: MSISDN/Number, dtype: int64\n",
      "\n",
      "*** Huawei ***\n",
      "Handset Type\n",
      "Huawei B528S-23A                  10616\n",
      "Huawei P20 Lite Huawei Nova 3E     1526\n",
      "Huawei E5180                       1182\n",
      "Huawei P20                         1105\n",
      "Huawei Y6 2018                      757\n",
      "Name: MSISDN/Number, dtype: int64\n"
     ]
    }
   ],
   "source": [
    "manufacturers = df_clean.groupby(\"Handset Manufacturer\")\n",
    "\n",
    "apple_top_5 = manufacturers.get_group('Apple').groupby(\"Handset Type\")['MSISDN/Number'].nunique().nlargest(5)\n",
    "samsung_top_5 = manufacturers.get_group('Samsung').groupby(\"Handset Type\")['MSISDN/Number'].nunique().nlargest(5)\n",
    "huawei_top_5 = manufacturers.get_group('Huawei').groupby(\"Handset Type\")['MSISDN/Number'].nunique().nlargest(5)\n",
    "\n",
    "\n",
    "print(\"**** Apple ***\")\n",
    "print(apple_top_5)\n",
    "print()\n",
    "print(\"**** Samsung **\")\n",
    "print(samsung_top_5)\n",
    "print()\n",
    "print(\"*** Huawei ***\")\n",
    "print(huawei_top_5)"
   ]
  },
  {
   "cell_type": "markdown",
   "id": "c240c79c",
   "metadata": {},
   "source": [
    "## Begin Analysis "
   ]
  },
  {
   "cell_type": "markdown",
   "id": "3b5c8343",
   "metadata": {},
   "source": [
    "### Task 1.1"
   ]
  },
  {
   "cell_type": "markdown",
   "id": "1a1978b8",
   "metadata": {},
   "source": [
    "Aggregate per user the following information in the column  \n",
    "1. number of xDR sessions\n",
    "2. Session duration\n",
    "3. the total download (DL) and upload (UL) data\n",
    "4. the total data volume (in Bytes) during this session for each application\n"
   ]
  },
  {
   "cell_type": "code",
   "execution_count": 21,
   "id": "96a16c77",
   "metadata": {},
   "outputs": [
    {
     "data": {
      "text/html": [
       "<div>\n",
       "<style scoped>\n",
       "    .dataframe tbody tr th:only-of-type {\n",
       "        vertical-align: middle;\n",
       "    }\n",
       "\n",
       "    .dataframe tbody tr th {\n",
       "        vertical-align: top;\n",
       "    }\n",
       "\n",
       "    .dataframe thead th {\n",
       "        text-align: right;\n",
       "    }\n",
       "</style>\n",
       "<table border=\"1\" class=\"dataframe\">\n",
       "  <thead>\n",
       "    <tr style=\"text-align: right;\">\n",
       "      <th></th>\n",
       "      <th>Bearer Id</th>\n",
       "      <th>Dur. (ms)</th>\n",
       "      <th>Total UL (Bytes)</th>\n",
       "      <th>Total DL (Bytes)</th>\n",
       "    </tr>\n",
       "  </thead>\n",
       "  <tbody>\n",
       "    <tr>\n",
       "      <th>count</th>\n",
       "      <td>106,471.00</td>\n",
       "      <td>106,471.00</td>\n",
       "      <td>106,471.00</td>\n",
       "      <td>106,471.00</td>\n",
       "    </tr>\n",
       "    <tr>\n",
       "      <th>mean</th>\n",
       "      <td>1.39</td>\n",
       "      <td>146,571.49</td>\n",
       "      <td>57,353,397.42</td>\n",
       "      <td>634,166,456.00</td>\n",
       "    </tr>\n",
       "    <tr>\n",
       "      <th>std</th>\n",
       "      <td>0.81</td>\n",
       "      <td>186,562.67</td>\n",
       "      <td>35,696,601.18</td>\n",
       "      <td>464,985,545.89</td>\n",
       "    </tr>\n",
       "    <tr>\n",
       "      <th>min</th>\n",
       "      <td>1.00</td>\n",
       "      <td>7,142.00</td>\n",
       "      <td>2,866,892.00</td>\n",
       "      <td>8,827,082.00</td>\n",
       "    </tr>\n",
       "    <tr>\n",
       "      <th>25%</th>\n",
       "      <td>1.00</td>\n",
       "      <td>72,399.50</td>\n",
       "      <td>36,401,961.50</td>\n",
       "      <td>314,987,403.00</td>\n",
       "    </tr>\n",
       "    <tr>\n",
       "      <th>50%</th>\n",
       "      <td>1.00</td>\n",
       "      <td>103,137.00</td>\n",
       "      <td>46,813,124.00</td>\n",
       "      <td>570,732,060.00</td>\n",
       "    </tr>\n",
       "    <tr>\n",
       "      <th>75%</th>\n",
       "      <td>2.00</td>\n",
       "      <td>172,799.00</td>\n",
       "      <td>65,859,856.50</td>\n",
       "      <td>807,826,533.00</td>\n",
       "    </tr>\n",
       "    <tr>\n",
       "      <th>max</th>\n",
       "      <td>18.00</td>\n",
       "      <td>18,553,754.00</td>\n",
       "      <td>729,577,380.00</td>\n",
       "      <td>8,156,743,493.00</td>\n",
       "    </tr>\n",
       "  </tbody>\n",
       "</table>\n",
       "</div>"
      ],
      "text/plain": [
       "       Bearer Id     Dur. (ms)  Total UL (Bytes)  Total DL (Bytes)\n",
       "count 106,471.00    106,471.00        106,471.00        106,471.00\n",
       "mean        1.39    146,571.49     57,353,397.42    634,166,456.00\n",
       "std         0.81    186,562.67     35,696,601.18    464,985,545.89\n",
       "min         1.00      7,142.00      2,866,892.00      8,827,082.00\n",
       "25%         1.00     72,399.50     36,401,961.50    314,987,403.00\n",
       "50%         1.00    103,137.00     46,813,124.00    570,732,060.00\n",
       "75%         2.00    172,799.00     65,859,856.50    807,826,533.00\n",
       "max        18.00 18,553,754.00    729,577,380.00  8,156,743,493.00"
      ]
     },
     "execution_count": 21,
     "metadata": {},
     "output_type": "execute_result"
    }
   ],
   "source": [
    "aggrigate = {\"Bearer Id\": 'count', 'Dur. (ms)':'sum', 'Total UL (Bytes)': 'sum', 'Total DL (Bytes)': 'sum'}\n",
    "aggrigation_result = df_clean.groupby('MSISDN/Number').agg(aggrigate)\n",
    "aggrigation_result.describe()"
   ]
  },
  {
   "cell_type": "markdown",
   "id": "99809e84",
   "metadata": {},
   "source": [
    "#### User beheviour ON Applications"
   ]
  },
  {
   "cell_type": "code",
   "execution_count": 41,
   "id": "ab58277d",
   "metadata": {},
   "outputs": [
    {
     "name": "stdout",
     "output_type": "stream",
     "text": [
      "<class 'pandas.core.frame.DataFrame'>\n",
      "Float64Index: 106471 entries, 33601001722.0 to 882397108489451.0\n",
      "Data columns (total 8 columns):\n",
      " #   Column              Non-Null Count   Dtype  \n",
      "---  ------              --------------   -----  \n",
      " 0   Total Social Media  106471 non-null  float64\n",
      " 1   Total Google        106471 non-null  float64\n",
      " 2   Total Youtube       106471 non-null  float64\n",
      " 3   Total Netflix       106471 non-null  float64\n",
      " 4   Total Gaming        106471 non-null  float64\n",
      " 5   Total Other         106471 non-null  float64\n",
      " 6   Total Email         106471 non-null  float64\n",
      " 7   Total               106471 non-null  float64\n",
      "dtypes: float64(8)\n",
      "memory usage: 7.3 MB\n"
     ]
    }
   ],
   "source": [
    "# determind from this variables \n",
    "# Social Media, Google, Email, Youtube, Netflix, Gaming, Other . \n",
    "aggrigate = {\n",
    "    'Total Social Media':'sum',\n",
    "    'Total Google': 'sum', \n",
    "    'Total Youtube': 'sum', \n",
    "    'Total Netflix':'sum',\n",
    "    'Total Gaming':'sum',\n",
    "    'Total Other':'sum',\n",
    "    'Total Email': 'sum',\n",
    "    'Total':'sum'\n",
    "}\n",
    "user_app_usage = df_clean.copy()\n",
    "\n",
    "user_app_usage[\"Total Google\"]    = user_app_usage[\"Google DL (Bytes)\"] + user_app_usage[\"Google UL (Bytes)\"]\n",
    "user_app_usage[\"Total Youtube\"]   = user_app_usage[\"Youtube DL (Bytes)\"] + user_app_usage[\"Youtube UL (Bytes)\"]\n",
    "user_app_usage[\"Total Netflix\"]   = user_app_usage[\"Netflix DL (Bytes)\"] + user_app_usage[\"Netflix UL (Bytes)\"]\n",
    "user_app_usage[\"Total Email\"]     = user_app_usage[\"Email DL (Bytes)\"] + user_app_usage[\"Email UL (Bytes)\"]\n",
    "user_app_usage[\"Total Gaming\"]    = user_app_usage[\"Gaming DL (Bytes)\"] + user_app_usage[\"Gaming UL (Bytes)\"]\n",
    "user_app_usage[\"Total Social Media\"] = user_app_usage[\"Social Media DL (Bytes)\"] + user_app_usage[\"Social Media UL (Bytes)\"]\n",
    "user_app_usage[\"Total Other\"]     = user_app_usage[\"Other DL (Bytes)\"] + user_app_usage[\"Other UL (Bytes)\"]\n",
    "user_app_usage[\"Total Email\"]     = user_app_usage[\"Email UL (Bytes)\"] + user_app_usage[\"Email DL (Bytes)\"]\n",
    "user_app_usage['Total']           = user_app_usage['Total UL (Bytes)'] + user_app_usage['Total DL (Bytes)']\n",
    "\n",
    "user_behaviour = user_app_usage.groupby('MSISDN/Number').agg(aggrigate)\n",
    "user_behaviour.info()\n"
   ]
  },
  {
   "cell_type": "code",
   "execution_count": 46,
   "id": "c2ff4e0b",
   "metadata": {},
   "outputs": [],
   "source": [
    "columns = ['Total Social Media','Total Google','Total Youtube','Total Netflix','Total Gaming', 'Total Other','Total Email','Total' ]\n",
    "user_behaviour = fix_outlier(user_behaviour, columns)\n"
   ]
  },
  {
   "cell_type": "markdown",
   "id": "40498bfa",
   "metadata": {},
   "source": [
    "## Graphical Analysis"
   ]
  },
  {
   "cell_type": "code",
   "execution_count": 24,
   "id": "fad0b8b6",
   "metadata": {},
   "outputs": [
    {
     "data": {
      "image/png": "[encoded data removed]",
      "text/plain": [
       "<Figure size 1008x504 with 1 Axes>"
      ]
     },
     "metadata": {
      "needs_background": "light"
     },
     "output_type": "display_data"
    }
   ],
   "source": [
    "df_clean['Dur. (ms)'] = fix_outlier(df_clean, ['Dur. (ms)'])\n",
    "plot_hist(df_clean, 'Dur. (ms)','green')"
   ]
  },
  {
   "cell_type": "code",
   "execution_count": null,
   "id": "239c3d5e",
   "metadata": {},
   "outputs": [],
   "source": []
  },
  {
   "cell_type": "code",
   "execution_count": null,
   "id": "ce48546c",
   "metadata": {},
   "outputs": [],
   "source": []
  },
  {
   "cell_type": "code",
   "execution_count": 25,
   "id": "ebbbeb8c",
   "metadata": {},
   "outputs": [
    {
     "data": {
      "image/png": "[encoded data removed]",
      "text/plain": [
       "<Figure size 1008x504 with 1 Axes>"
      ]
     },
     "metadata": {
      "needs_background": "light"
     },
     "output_type": "display_data"
    }
   ],
   "source": [
    "plot_hist(user_behaviour, 'Total','green')"
   ]
  },
  {
   "cell_type": "code",
   "execution_count": 26,
   "id": "64c1c8f6",
   "metadata": {},
   "outputs": [
    {
     "data": {
      "image/png": "[encoded data removed]",
      "text/plain": [
       "<Figure size 1008x504 with 1 Axes>"
      ]
     },
     "metadata": {
      "needs_background": "light"
     },
     "output_type": "display_data"
    }
   ],
   "source": [
    "plot_hist(user_behaviour, 'Total Social Media','blue')"
   ]
  },
  {
   "cell_type": "code",
   "execution_count": 27,
   "id": "67d57057",
   "metadata": {},
   "outputs": [
    {
     "data": {
      "image/png": "[encoded data removed]",
      "text/plain": [
       "<Figure size 1008x504 with 1 Axes>"
      ]
     },
     "metadata": {
      "needs_background": "light"
     },
     "output_type": "display_data"
    }
   ],
   "source": [
    "plot_hist(user_behaviour, 'Total Google','blue')"
   ]
  },
  {
   "cell_type": "code",
   "execution_count": 28,
   "id": "b7aecb61",
   "metadata": {},
   "outputs": [
    {
     "data": {
      "image/png": "[encoded data removed]",
      "text/plain": [
       "<Figure size 1008x504 with 1 Axes>"
      ]
     },
     "metadata": {
      "needs_background": "light"
     },
     "output_type": "display_data"
    }
   ],
   "source": [
    "plot_hist(user_behaviour, 'Total Youtube','green')"
   ]
  },
  {
   "cell_type": "code",
   "execution_count": 29,
   "id": "97ec947d",
   "metadata": {},
   "outputs": [
    {
     "data": {
      "image/png": "[encoded data removed]",
      "text/plain": [
       "<Figure size 1008x504 with 1 Axes>"
      ]
     },
     "metadata": {
      "needs_background": "light"
     },
     "output_type": "display_data"
    }
   ],
   "source": [
    "plot_hist(user_behaviour, 'Total Netflix','red')"
   ]
  },
  {
   "cell_type": "code",
   "execution_count": 30,
   "id": "11ef3c4c",
   "metadata": {},
   "outputs": [
    {
     "data": {
      "image/png": "[encoded data removed]",
      "text/plain": [
       "<Figure size 1008x504 with 1 Axes>"
      ]
     },
     "metadata": {
      "needs_background": "light"
     },
     "output_type": "display_data"
    }
   ],
   "source": [
    "plot_hist(user_behaviour, 'Total Gaming', 'blue')"
   ]
  },
  {
   "cell_type": "code",
   "execution_count": 31,
   "id": "d9158789",
   "metadata": {},
   "outputs": [
    {
     "data": {
      "image/png": "[encoded data removed]",
      "text/plain": [
       "<Figure size 1008x504 with 1 Axes>"
      ]
     },
     "metadata": {
      "needs_background": "light"
     },
     "output_type": "display_data"
    }
   ],
   "source": [
    "plot_hist(user_behaviour, 'Total Other','green')"
   ]
  },
  {
   "cell_type": "markdown",
   "id": "efdbe613",
   "metadata": {},
   "source": [
    "### Bivariant analysis"
   ]
  },
  {
   "cell_type": "code",
   "execution_count": 32,
   "id": "3df953af",
   "metadata": {},
   "outputs": [
    {
     "data": {
      "image/png": "[encoded data removed]",
      "text/plain": [
       "<Figure size 1080x576 with 8 Axes>"
      ]
     },
     "metadata": {
      "needs_background": "light"
     },
     "output_type": "display_data"
    }
   ],
   "source": [
    "### Scatter Plot\n",
    "\n",
    "fig, ((ax1, ax2, ax3, ax4), (ax5, ax6, ax7, ax8)) = plt.subplots(2, 4,figsize=(15,8))\n",
    "# plot_scatter(user_behaviour.sample(1000), \"Total\", \"Total Social Media\", \"Total Vs Social Media\",ax1, \"\", \"\")\n",
    "\n",
    "def bivariant_sactter(df, x_col, y_col, ax):\n",
    "    sns.scatterplot(data = df, x=x_col, y=y_col, ax=ax)\n",
    "\n",
    "sample_df = user_behaviour.sample(1000)\n",
    "\n",
    "bivariant_sactter(sample_df, 'Total', 'Total Social Media', ax1)\n",
    "bivariant_sactter(sample_df, 'Total', 'Total Google', ax2)\n",
    "bivariant_sactter(sample_df, 'Total', 'Total Youtube', ax3)\n",
    "bivariant_sactter(sample_df, 'Total', 'Total Netflix', ax4)\n",
    "bivariant_sactter(sample_df, 'Total', 'Total Gaming', ax5)\n",
    "bivariant_sactter(sample_df, 'Total', 'Total Email', ax6)\n",
    "bivariant_sactter(sample_df, 'Total', 'Total Other', ax7)\n",
    "bivariant_sactter(sample_df, 'Total', 'Total', ax8)\n"
   ]
  },
  {
   "cell_type": "markdown",
   "id": "e33ff34d",
   "metadata": {},
   "source": [
    "#### Correlation Analysis – compute a correlation matrix for the following variables and interpret your findings: Social Media data, Google data, Email data, Youtube data, Netflix data, Gaming data, Other data \n"
   ]
  },
  {
   "cell_type": "code",
   "execution_count": 33,
   "id": "d2e24893",
   "metadata": {},
   "outputs": [
    {
     "data": {
      "image/png": "[encoded data removed]",
      "text/plain": [
       "<Figure size 864x504 with 1 Axes>"
      ]
     },
     "metadata": {
      "needs_background": "light"
     },
     "output_type": "display_data"
    }
   ],
   "source": [
    "\n",
    "columns=['Total Socil Media', 'Total Google', 'Total Netflix', \\\n",
    "                             'Total Gaming', 'Total Other', 'Total Email']\n",
    "correlation = user_behaviour.corr()\n",
    "plot_heatmap(correlation, \"Relation Between Applications\")\n"
   ]
  },
  {
   "cell_type": "markdown",
   "id": "a474f0e7",
   "metadata": {},
   "source": [
    "#### Variable transformations – segment the users into top five decile classes based on the total duration for all sessions and compute the total data (DL+UL) per decile class. "
   ]
  },
  {
   "cell_type": "code",
   "execution_count": 39,
   "id": "e786600c",
   "metadata": {},
   "outputs": [
    {
     "data": {
      "text/html": [
       "<div>\n",
       "<style scoped>\n",
       "    .dataframe tbody tr th:only-of-type {\n",
       "        vertical-align: middle;\n",
       "    }\n",
       "\n",
       "    .dataframe tbody tr th {\n",
       "        vertical-align: top;\n",
       "    }\n",
       "\n",
       "    .dataframe thead th {\n",
       "        text-align: right;\n",
       "    }\n",
       "</style>\n",
       "<table border=\"1\" class=\"dataframe\">\n",
       "  <thead>\n",
       "    <tr style=\"text-align: right;\">\n",
       "      <th></th>\n",
       "      <th>Total</th>\n",
       "    </tr>\n",
       "    <tr>\n",
       "      <th>classes</th>\n",
       "      <th></th>\n",
       "    </tr>\n",
       "  </thead>\n",
       "  <tbody>\n",
       "    <tr>\n",
       "      <th>0</th>\n",
       "      <td>11,529,809,163,943.00</td>\n",
       "    </tr>\n",
       "    <tr>\n",
       "      <th>1</th>\n",
       "      <td>12,953,477,655,713.00</td>\n",
       "    </tr>\n",
       "    <tr>\n",
       "      <th>2</th>\n",
       "      <td>10,850,256,429,370.00</td>\n",
       "    </tr>\n",
       "    <tr>\n",
       "      <th>3</th>\n",
       "      <td>13,574,682,434,513.00</td>\n",
       "    </tr>\n",
       "    <tr>\n",
       "      <th>4</th>\n",
       "      <td>24,718,584,629,821.00</td>\n",
       "    </tr>\n",
       "  </tbody>\n",
       "</table>\n",
       "</div>"
      ],
      "text/plain": [
       "                        Total\n",
       "classes                      \n",
       "0       11,529,809,163,943.00\n",
       "1       12,953,477,655,713.00\n",
       "2       10,850,256,429,370.00\n",
       "3       13,574,682,434,513.00\n",
       "4       24,718,584,629,821.00"
      ]
     },
     "execution_count": 39,
     "metadata": {},
     "output_type": "execute_result"
    }
   ],
   "source": [
    "### columns i need , Du , Total, Mi/Number\n",
    "new_df = df_clean.copy()\n",
    "new_df['Total'] = new_df['Total UL (Bytes)'] + new_df['Total DL (Bytes)']\n",
    "\n",
    "working_df = new_df[['MSISDN/Number','Dur. (ms)','Total']].groupby('MSISDN/Number')\\\n",
    "    .agg({'Dur. (ms)':'sum', 'Total':'sum'}).reset_index()\n",
    "working_df['classes'] = pd.qcut(working_df['Dur. (ms)'], 5, labels = False)\n",
    "\n",
    "result = working_df.groupby('classes').agg({'Total':'sum'})\n",
    "result"
   ]
  },
  {
   "cell_type": "markdown",
   "id": "20557c21",
   "metadata": {},
   "source": [
    "#### Dimensionality Reduction – perform a principal component analysis to reduce the dimensions of your data and provide a useful interpretation of the results (Provide your interpretation in four (4) bullet points-maximum). "
   ]
  },
  {
   "cell_type": "code",
   "execution_count": 50,
   "id": "75491e19",
   "metadata": {},
   "outputs": [
    {
     "data": {
      "text/html": [
       "<div>\n",
       "<style scoped>\n",
       "    .dataframe tbody tr th:only-of-type {\n",
       "        vertical-align: middle;\n",
       "    }\n",
       "\n",
       "    .dataframe tbody tr th {\n",
       "        vertical-align: top;\n",
       "    }\n",
       "\n",
       "    .dataframe thead th {\n",
       "        text-align: right;\n",
       "    }\n",
       "</style>\n",
       "<table border=\"1\" class=\"dataframe\">\n",
       "  <thead>\n",
       "    <tr style=\"text-align: right;\">\n",
       "      <th></th>\n",
       "      <th>feat-1</th>\n",
       "      <th>feat-2</th>\n",
       "      <th>feat-3</th>\n",
       "      <th>feat-4</th>\n",
       "    </tr>\n",
       "  </thead>\n",
       "  <tbody>\n",
       "    <tr>\n",
       "      <th>0</th>\n",
       "      <td>-135,337,348.64</td>\n",
       "      <td>70,641,137.21</td>\n",
       "      <td>306,980.49</td>\n",
       "      <td>-865,845.68</td>\n",
       "    </tr>\n",
       "    <tr>\n",
       "      <th>1</th>\n",
       "      <td>498,338,910.26</td>\n",
       "      <td>101,272,428.16</td>\n",
       "      <td>-20,903,663.00</td>\n",
       "      <td>12,886,317.65</td>\n",
       "    </tr>\n",
       "    <tr>\n",
       "      <th>2</th>\n",
       "      <td>-130,321,341.29</td>\n",
       "      <td>-45,806,745.31</td>\n",
       "      <td>-13,332,625.87</td>\n",
       "      <td>4,590,275.74</td>\n",
       "    </tr>\n",
       "    <tr>\n",
       "      <th>3</th>\n",
       "      <td>150,489,520.96</td>\n",
       "      <td>390,731,114.22</td>\n",
       "      <td>-28,573,028.16</td>\n",
       "      <td>23,022,136.73</td>\n",
       "    </tr>\n",
       "    <tr>\n",
       "      <th>4</th>\n",
       "      <td>-153,429,492.09</td>\n",
       "      <td>-81,848,531.25</td>\n",
       "      <td>-80,570.65</td>\n",
       "      <td>-3,834,940.55</td>\n",
       "    </tr>\n",
       "  </tbody>\n",
       "</table>\n",
       "</div>"
      ],
      "text/plain": [
       "           feat-1         feat-2         feat-3        feat-4\n",
       "0 -135,337,348.64  70,641,137.21     306,980.49   -865,845.68\n",
       "1  498,338,910.26 101,272,428.16 -20,903,663.00 12,886,317.65\n",
       "2 -130,321,341.29 -45,806,745.31 -13,332,625.87  4,590,275.74\n",
       "3  150,489,520.96 390,731,114.22 -28,573,028.16 23,022,136.73\n",
       "4 -153,429,492.09 -81,848,531.25     -80,570.65 -3,834,940.55"
      ]
     },
     "execution_count": 50,
     "metadata": {},
     "output_type": "execute_result"
    }
   ],
   "source": [
    "\"\"\"\n",
    "***** user_behaviour.reset_index().copy() ***\n",
    "\n",
    "dont forget to use this when you wan to make copy of the user_behaviour\n",
    "reseting index will add 'MSISDN/Number' to the column list\n",
    "\n",
    "\"\"\"\n",
    "pca_new_df = user_behaviour.copy()\n",
    "\n",
    "\n",
    "pca = PCA(n_components=4) \n",
    "df_pca = pca.fit_transform(pca_new_df)\n",
    "\n",
    "principal_df = pd.DataFrame(data=df_pca, columns=['feat-1', 'feat-2', 'feat-3', 'feat-4'])\n",
    "principal_df.head()"
   ]
  },
  {
   "cell_type": "code",
   "execution_count": 51,
   "id": "2c938929",
   "metadata": {},
   "outputs": [
    {
     "data": {
      "text/html": [
       "<div>\n",
       "<style scoped>\n",
       "    .dataframe tbody tr th:only-of-type {\n",
       "        vertical-align: middle;\n",
       "    }\n",
       "\n",
       "    .dataframe tbody tr th {\n",
       "        vertical-align: top;\n",
       "    }\n",
       "\n",
       "    .dataframe thead th {\n",
       "        text-align: right;\n",
       "    }\n",
       "</style>\n",
       "<table border=\"1\" class=\"dataframe\">\n",
       "  <thead>\n",
       "    <tr style=\"text-align: right;\">\n",
       "      <th></th>\n",
       "      <th>feat-1</th>\n",
       "      <th>feat-2</th>\n",
       "      <th>feat-3</th>\n",
       "      <th>feat-4</th>\n",
       "    </tr>\n",
       "  </thead>\n",
       "  <tbody>\n",
       "    <tr>\n",
       "      <th>0</th>\n",
       "      <td>-0.25</td>\n",
       "      <td>1.07</td>\n",
       "      <td>0.38</td>\n",
       "      <td>0.38</td>\n",
       "    </tr>\n",
       "    <tr>\n",
       "      <th>1</th>\n",
       "      <td>2.66</td>\n",
       "      <td>-0.06</td>\n",
       "      <td>1.18</td>\n",
       "      <td>1.70</td>\n",
       "    </tr>\n",
       "    <tr>\n",
       "      <th>2</th>\n",
       "      <td>-0.59</td>\n",
       "      <td>0.15</td>\n",
       "      <td>1.61</td>\n",
       "      <td>1.18</td>\n",
       "    </tr>\n",
       "    <tr>\n",
       "      <th>3</th>\n",
       "      <td>1.97</td>\n",
       "      <td>2.79</td>\n",
       "      <td>-0.56</td>\n",
       "      <td>0.37</td>\n",
       "    </tr>\n",
       "    <tr>\n",
       "      <th>4</th>\n",
       "      <td>-1.38</td>\n",
       "      <td>-1.19</td>\n",
       "      <td>0.39</td>\n",
       "      <td>0.61</td>\n",
       "    </tr>\n",
       "  </tbody>\n",
       "</table>\n",
       "</div>"
      ],
      "text/plain": [
       "   feat-1  feat-2  feat-3  feat-4\n",
       "0   -0.25    1.07    0.38    0.38\n",
       "1    2.66   -0.06    1.18    1.70\n",
       "2   -0.59    0.15    1.61    1.18\n",
       "3    1.97    2.79   -0.56    0.37\n",
       "4   -1.38   -1.19    0.39    0.61"
      ]
     },
     "execution_count": 51,
     "metadata": {},
     "output_type": "execute_result"
    }
   ],
   "source": [
    "\n",
    "# print(user_behaviour.loc[:,:].values)\n",
    "scalle_df = user_behaviour.copy()\n",
    "\n",
    "\n",
    "scalled = StandardScaler().fit_transform(scalle_df)\n",
    "new_scalled_df = pd.DataFrame(data=scalled, columns=scalle_df.columns)\n",
    "\n",
    "pca = PCA(n_components=4) \n",
    "df_pca = pca.fit_transform(new_scalled_df)\n",
    "\n",
    "principal_df = pd.DataFrame(data=df_pca, columns=['feat-1', 'feat-2', 'feat-3', 'feat-4'])\n",
    "principal_df.head()\n"
   ]
  },
  {
   "cell_type": "code",
   "execution_count": null,
   "id": "6b93195a",
   "metadata": {},
   "outputs": [],
   "source": [
    "## ? What is the interpretation ? \n"
   ]
  },
  {
   "cell_type": "markdown",
   "id": "d701f4fb",
   "metadata": {},
   "source": [
    "## Task 2"
   ]
  },
  {
   "cell_type": "markdown",
   "id": "b4d5b65a",
   "metadata": {},
   "source": [
    "#### engagement matrices \n",
    "1. sessions frequency \n",
    "2. the duration of the session \n",
    "3. the sessions total traffi\n"
   ]
  },
  {
   "cell_type": "markdown",
   "id": "33423625",
   "metadata": {},
   "source": [
    "#### Aggregate the above metrics per customer id (MSISDN) and report the top 10 customers per engagement metric "
   ]
  },
  {
   "cell_type": "code",
   "execution_count": 52,
   "id": "f14b03bb",
   "metadata": {},
   "outputs": [
    {
     "data": {
      "text/html": [
       "<div>\n",
       "<style scoped>\n",
       "    .dataframe tbody tr th:only-of-type {\n",
       "        vertical-align: middle;\n",
       "    }\n",
       "\n",
       "    .dataframe tbody tr th {\n",
       "        vertical-align: top;\n",
       "    }\n",
       "\n",
       "    .dataframe thead th {\n",
       "        text-align: right;\n",
       "    }\n",
       "</style>\n",
       "<table border=\"1\" class=\"dataframe\">\n",
       "  <thead>\n",
       "    <tr style=\"text-align: right;\">\n",
       "      <th></th>\n",
       "      <th>Bearer Id</th>\n",
       "      <th>Dur. (ms)</th>\n",
       "      <th>Total</th>\n",
       "    </tr>\n",
       "    <tr>\n",
       "      <th>MSISDN/Number</th>\n",
       "      <th></th>\n",
       "      <th></th>\n",
       "      <th></th>\n",
       "    </tr>\n",
       "  </thead>\n",
       "  <tbody>\n",
       "    <tr>\n",
       "      <th>33,601,001,722.00</th>\n",
       "      <td>1</td>\n",
       "      <td>116,720.00</td>\n",
       "      <td>878,690,574.00</td>\n",
       "    </tr>\n",
       "    <tr>\n",
       "      <th>33,601,001,754.00</th>\n",
       "      <td>1</td>\n",
       "      <td>181,230.00</td>\n",
       "      <td>156,859,643.00</td>\n",
       "    </tr>\n",
       "    <tr>\n",
       "      <th>33,601,002,511.00</th>\n",
       "      <td>1</td>\n",
       "      <td>134,969.00</td>\n",
       "      <td>595,966,483.00</td>\n",
       "    </tr>\n",
       "    <tr>\n",
       "      <th>33,601,007,832.00</th>\n",
       "      <td>1</td>\n",
       "      <td>49,878.00</td>\n",
       "      <td>422,320,698.00</td>\n",
       "    </tr>\n",
       "    <tr>\n",
       "      <th>33,601,008,617.00</th>\n",
       "      <td>2</td>\n",
       "      <td>37,104.00</td>\n",
       "      <td>1,457,410,944.00</td>\n",
       "    </tr>\n",
       "  </tbody>\n",
       "</table>\n",
       "</div>"
      ],
      "text/plain": [
       "                   Bearer Id  Dur. (ms)            Total\n",
       "MSISDN/Number                                           \n",
       "33,601,001,722.00          1 116,720.00   878,690,574.00\n",
       "33,601,001,754.00          1 181,230.00   156,859,643.00\n",
       "33,601,002,511.00          1 134,969.00   595,966,483.00\n",
       "33,601,007,832.00          1  49,878.00   422,320,698.00\n",
       "33,601,008,617.00          2  37,104.00 1,457,410,944.00"
      ]
     },
     "execution_count": 52,
     "metadata": {},
     "output_type": "execute_result"
    }
   ],
   "source": [
    "df_task2 = df_clean.copy()\n",
    "df_task2['Total'] = df_task2['Total UL (Bytes)'] + df_task2['Total DL (Bytes)']\n",
    "df_task2 = df_task2.groupby('MSISDN/Number')\\\n",
    "    .agg({\"Bearer Id\": \"count\", 'Dur. (ms)':'sum', 'Total':'sum'})\n",
    "\n",
    "df_task2.head()"
   ]
  },
  {
   "cell_type": "code",
   "execution_count": 53,
   "id": "81244ed8",
   "metadata": {},
   "outputs": [
    {
     "data": {
      "text/html": [
       "<div>\n",
       "<style scoped>\n",
       "    .dataframe tbody tr th:only-of-type {\n",
       "        vertical-align: middle;\n",
       "    }\n",
       "\n",
       "    .dataframe tbody tr th {\n",
       "        vertical-align: top;\n",
       "    }\n",
       "\n",
       "    .dataframe thead th {\n",
       "        text-align: right;\n",
       "    }\n",
       "</style>\n",
       "<table border=\"1\" class=\"dataframe\">\n",
       "  <thead>\n",
       "    <tr style=\"text-align: right;\">\n",
       "      <th></th>\n",
       "      <th>Bearer Id</th>\n",
       "      <th>Dur. (ms)</th>\n",
       "      <th>Total</th>\n",
       "    </tr>\n",
       "    <tr>\n",
       "      <th>MSISDN/Number</th>\n",
       "      <th></th>\n",
       "      <th></th>\n",
       "      <th></th>\n",
       "    </tr>\n",
       "  </thead>\n",
       "  <tbody>\n",
       "    <tr>\n",
       "      <th>33,626,320,676.00</th>\n",
       "      <td>18</td>\n",
       "      <td>1,785,419.00</td>\n",
       "      <td>7,971,167,261.00</td>\n",
       "    </tr>\n",
       "    <tr>\n",
       "      <th>33,614,892,860.00</th>\n",
       "      <td>17</td>\n",
       "      <td>1,678,397.00</td>\n",
       "      <td>8,846,226,494.00</td>\n",
       "    </tr>\n",
       "    <tr>\n",
       "      <th>33,625,779,332.00</th>\n",
       "      <td>17</td>\n",
       "      <td>1,599,052.00</td>\n",
       "      <td>8,499,620,722.00</td>\n",
       "    </tr>\n",
       "    <tr>\n",
       "      <th>33,659,725,664.00</th>\n",
       "      <td>16</td>\n",
       "      <td>1,905,478.00</td>\n",
       "      <td>7,705,862,783.00</td>\n",
       "    </tr>\n",
       "    <tr>\n",
       "      <th>33,760,536,639.00</th>\n",
       "      <td>15</td>\n",
       "      <td>1,651,084.00</td>\n",
       "      <td>8,514,773,963.00</td>\n",
       "    </tr>\n",
       "    <tr>\n",
       "      <th>33,675,877,202.00</th>\n",
       "      <td>15</td>\n",
       "      <td>1,745,131.00</td>\n",
       "      <td>7,891,110,608.00</td>\n",
       "    </tr>\n",
       "    <tr>\n",
       "      <th>33,667,163,239.00</th>\n",
       "      <td>13</td>\n",
       "      <td>1,209,703.00</td>\n",
       "      <td>5,618,394,054.00</td>\n",
       "    </tr>\n",
       "    <tr>\n",
       "      <th>33,604,515,716.00</th>\n",
       "      <td>12</td>\n",
       "      <td>1,193,033.00</td>\n",
       "      <td>5,487,855,293.00</td>\n",
       "    </tr>\n",
       "    <tr>\n",
       "      <th>33,760,413,819.00</th>\n",
       "      <td>12</td>\n",
       "      <td>1,248,477.00</td>\n",
       "      <td>7,132,370,514.00</td>\n",
       "    </tr>\n",
       "    <tr>\n",
       "      <th>33,603,127,838.00</th>\n",
       "      <td>12</td>\n",
       "      <td>1,109,736.00</td>\n",
       "      <td>4,976,195,043.00</td>\n",
       "    </tr>\n",
       "  </tbody>\n",
       "</table>\n",
       "</div>"
      ],
      "text/plain": [
       "                   Bearer Id    Dur. (ms)            Total\n",
       "MSISDN/Number                                             \n",
       "33,626,320,676.00         18 1,785,419.00 7,971,167,261.00\n",
       "33,614,892,860.00         17 1,678,397.00 8,846,226,494.00\n",
       "33,625,779,332.00         17 1,599,052.00 8,499,620,722.00\n",
       "33,659,725,664.00         16 1,905,478.00 7,705,862,783.00\n",
       "33,760,536,639.00         15 1,651,084.00 8,514,773,963.00\n",
       "33,675,877,202.00         15 1,745,131.00 7,891,110,608.00\n",
       "33,667,163,239.00         13 1,209,703.00 5,618,394,054.00\n",
       "33,604,515,716.00         12 1,193,033.00 5,487,855,293.00\n",
       "33,760,413,819.00         12 1,248,477.00 7,132,370,514.00\n",
       "33,603,127,838.00         12 1,109,736.00 4,976,195,043.00"
      ]
     },
     "execution_count": 53,
     "metadata": {},
     "output_type": "execute_result"
    }
   ],
   "source": [
    "### Top 10 Beaerer id\n",
    "df_task2.sort_values(by='Bearer Id', ascending=False).head(10)"
   ]
  },
  {
   "cell_type": "code",
   "execution_count": 54,
   "id": "a0c62044",
   "metadata": {},
   "outputs": [
    {
     "data": {
      "text/html": [
       "<div>\n",
       "<style scoped>\n",
       "    .dataframe tbody tr th:only-of-type {\n",
       "        vertical-align: middle;\n",
       "    }\n",
       "\n",
       "    .dataframe tbody tr th {\n",
       "        vertical-align: top;\n",
       "    }\n",
       "\n",
       "    .dataframe thead th {\n",
       "        text-align: right;\n",
       "    }\n",
       "</style>\n",
       "<table border=\"1\" class=\"dataframe\">\n",
       "  <thead>\n",
       "    <tr style=\"text-align: right;\">\n",
       "      <th></th>\n",
       "      <th>Bearer Id</th>\n",
       "      <th>Dur. (ms)</th>\n",
       "      <th>Total</th>\n",
       "    </tr>\n",
       "    <tr>\n",
       "      <th>MSISDN/Number</th>\n",
       "      <th></th>\n",
       "      <th></th>\n",
       "      <th></th>\n",
       "    </tr>\n",
       "  </thead>\n",
       "  <tbody>\n",
       "    <tr>\n",
       "      <th>33,659,725,664.00</th>\n",
       "      <td>16</td>\n",
       "      <td>1,905,478.00</td>\n",
       "      <td>7,705,862,783.00</td>\n",
       "    </tr>\n",
       "    <tr>\n",
       "      <th>33,626,320,676.00</th>\n",
       "      <td>18</td>\n",
       "      <td>1,785,419.00</td>\n",
       "      <td>7,971,167,261.00</td>\n",
       "    </tr>\n",
       "    <tr>\n",
       "      <th>33,659,359,429.00</th>\n",
       "      <td>11</td>\n",
       "      <td>1,747,994.00</td>\n",
       "      <td>4,658,437,137.00</td>\n",
       "    </tr>\n",
       "    <tr>\n",
       "      <th>33,675,877,202.00</th>\n",
       "      <td>15</td>\n",
       "      <td>1,745,131.00</td>\n",
       "      <td>7,891,110,608.00</td>\n",
       "    </tr>\n",
       "    <tr>\n",
       "      <th>33,614,892,860.00</th>\n",
       "      <td>17</td>\n",
       "      <td>1,678,397.00</td>\n",
       "      <td>8,846,226,494.00</td>\n",
       "    </tr>\n",
       "    <tr>\n",
       "      <th>33,760,536,639.00</th>\n",
       "      <td>15</td>\n",
       "      <td>1,651,084.00</td>\n",
       "      <td>8,514,773,963.00</td>\n",
       "    </tr>\n",
       "    <tr>\n",
       "      <th>33,625,779,332.00</th>\n",
       "      <td>17</td>\n",
       "      <td>1,599,052.00</td>\n",
       "      <td>8,499,620,722.00</td>\n",
       "    </tr>\n",
       "    <tr>\n",
       "      <th>33,786,323,068.00</th>\n",
       "      <td>12</td>\n",
       "      <td>1,427,807.00</td>\n",
       "      <td>5,622,231,529.00</td>\n",
       "    </tr>\n",
       "    <tr>\n",
       "      <th>33,664,712,899.00</th>\n",
       "      <td>11</td>\n",
       "      <td>1,334,982.00</td>\n",
       "      <td>6,872,018,208.00</td>\n",
       "    </tr>\n",
       "    <tr>\n",
       "      <th>33,606,582,008.00</th>\n",
       "      <td>9</td>\n",
       "      <td>1,322,251.00</td>\n",
       "      <td>4,731,467,405.00</td>\n",
       "    </tr>\n",
       "  </tbody>\n",
       "</table>\n",
       "</div>"
      ],
      "text/plain": [
       "                   Bearer Id    Dur. (ms)            Total\n",
       "MSISDN/Number                                             \n",
       "33,659,725,664.00         16 1,905,478.00 7,705,862,783.00\n",
       "33,626,320,676.00         18 1,785,419.00 7,971,167,261.00\n",
       "33,659,359,429.00         11 1,747,994.00 4,658,437,137.00\n",
       "33,675,877,202.00         15 1,745,131.00 7,891,110,608.00\n",
       "33,614,892,860.00         17 1,678,397.00 8,846,226,494.00\n",
       "33,760,536,639.00         15 1,651,084.00 8,514,773,963.00\n",
       "33,625,779,332.00         17 1,599,052.00 8,499,620,722.00\n",
       "33,786,323,068.00         12 1,427,807.00 5,622,231,529.00\n",
       "33,664,712,899.00         11 1,334,982.00 6,872,018,208.00\n",
       "33,606,582,008.00          9 1,322,251.00 4,731,467,405.00"
      ]
     },
     "execution_count": 54,
     "metadata": {},
     "output_type": "execute_result"
    }
   ],
   "source": [
    "### Top 10 Duration\n",
    "df_task2.sort_values(by='Dur. (ms)', ascending=False).head(10)"
   ]
  },
  {
   "cell_type": "code",
   "execution_count": 55,
   "id": "0313c0a6",
   "metadata": {},
   "outputs": [
    {
     "data": {
      "text/html": [
       "<div>\n",
       "<style scoped>\n",
       "    .dataframe tbody tr th:only-of-type {\n",
       "        vertical-align: middle;\n",
       "    }\n",
       "\n",
       "    .dataframe tbody tr th {\n",
       "        vertical-align: top;\n",
       "    }\n",
       "\n",
       "    .dataframe thead th {\n",
       "        text-align: right;\n",
       "    }\n",
       "</style>\n",
       "<table border=\"1\" class=\"dataframe\">\n",
       "  <thead>\n",
       "    <tr style=\"text-align: right;\">\n",
       "      <th></th>\n",
       "      <th>Bearer Id</th>\n",
       "      <th>Dur. (ms)</th>\n",
       "      <th>Total</th>\n",
       "    </tr>\n",
       "    <tr>\n",
       "      <th>MSISDN/Number</th>\n",
       "      <th></th>\n",
       "      <th></th>\n",
       "      <th></th>\n",
       "    </tr>\n",
       "  </thead>\n",
       "  <tbody>\n",
       "    <tr>\n",
       "      <th>33,614,892,860.00</th>\n",
       "      <td>17</td>\n",
       "      <td>1,678,397.00</td>\n",
       "      <td>8,846,226,494.00</td>\n",
       "    </tr>\n",
       "    <tr>\n",
       "      <th>33,760,536,639.00</th>\n",
       "      <td>15</td>\n",
       "      <td>1,651,084.00</td>\n",
       "      <td>8,514,773,963.00</td>\n",
       "    </tr>\n",
       "    <tr>\n",
       "      <th>33,625,779,332.00</th>\n",
       "      <td>17</td>\n",
       "      <td>1,599,052.00</td>\n",
       "      <td>8,499,620,722.00</td>\n",
       "    </tr>\n",
       "    <tr>\n",
       "      <th>33,626,320,676.00</th>\n",
       "      <td>18</td>\n",
       "      <td>1,785,419.00</td>\n",
       "      <td>7,971,167,261.00</td>\n",
       "    </tr>\n",
       "    <tr>\n",
       "      <th>33,675,877,202.00</th>\n",
       "      <td>15</td>\n",
       "      <td>1,745,131.00</td>\n",
       "      <td>7,891,110,608.00</td>\n",
       "    </tr>\n",
       "    <tr>\n",
       "      <th>33,659,725,664.00</th>\n",
       "      <td>16</td>\n",
       "      <td>1,905,478.00</td>\n",
       "      <td>7,705,862,783.00</td>\n",
       "    </tr>\n",
       "    <tr>\n",
       "      <th>33,666,464,084.00</th>\n",
       "      <td>11</td>\n",
       "      <td>1,168,703.00</td>\n",
       "      <td>7,308,500,938.00</td>\n",
       "    </tr>\n",
       "    <tr>\n",
       "      <th>33,760,413,819.00</th>\n",
       "      <td>12</td>\n",
       "      <td>1,248,477.00</td>\n",
       "      <td>7,132,370,514.00</td>\n",
       "    </tr>\n",
       "    <tr>\n",
       "      <th>33,664,712,899.00</th>\n",
       "      <td>11</td>\n",
       "      <td>1,334,982.00</td>\n",
       "      <td>6,872,018,208.00</td>\n",
       "    </tr>\n",
       "    <tr>\n",
       "      <th>33,698,792,269.00</th>\n",
       "      <td>11</td>\n",
       "      <td>1,052,303.00</td>\n",
       "      <td>6,540,899,126.00</td>\n",
       "    </tr>\n",
       "  </tbody>\n",
       "</table>\n",
       "</div>"
      ],
      "text/plain": [
       "                   Bearer Id    Dur. (ms)            Total\n",
       "MSISDN/Number                                             \n",
       "33,614,892,860.00         17 1,678,397.00 8,846,226,494.00\n",
       "33,760,536,639.00         15 1,651,084.00 8,514,773,963.00\n",
       "33,625,779,332.00         17 1,599,052.00 8,499,620,722.00\n",
       "33,626,320,676.00         18 1,785,419.00 7,971,167,261.00\n",
       "33,675,877,202.00         15 1,745,131.00 7,891,110,608.00\n",
       "33,659,725,664.00         16 1,905,478.00 7,705,862,783.00\n",
       "33,666,464,084.00         11 1,168,703.00 7,308,500,938.00\n",
       "33,760,413,819.00         12 1,248,477.00 7,132,370,514.00\n",
       "33,664,712,899.00         11 1,334,982.00 6,872,018,208.00\n",
       "33,698,792,269.00         11 1,052,303.00 6,540,899,126.00"
      ]
     },
     "execution_count": 55,
     "metadata": {},
     "output_type": "execute_result"
    }
   ],
   "source": [
    "df_task2.sort_values(by='Total', ascending=False).head(10)"
   ]
  },
  {
   "cell_type": "markdown",
   "id": "60580361",
   "metadata": {},
   "source": [
    "#### Normalize each engagement metric and run a k-means (k=3) to classify customers in three groups of engagement"
   ]
  },
  {
   "cell_type": "code",
   "execution_count": 56,
   "id": "d8baf6bd",
   "metadata": {},
   "outputs": [],
   "source": [
    "min_max_scaler = preprocessing.MinMaxScaler()\n",
    "df_values = df_task2.values\n",
    "\n",
    "scalled_values = min_max_scaler.fit_transform(df_values)\n",
    "df_normalized = pd.DataFrame(data=scalled_values, columns=df_task2.columns)\n",
    "\n",
    "\n",
    "kmeans = KMeans(n_clusters=3).fit(df_normalized)\n"
   ]
  },
  {
   "cell_type": "code",
   "execution_count": 57,
   "id": "1eb50b6e",
   "metadata": {},
   "outputs": [
    {
     "name": "stdout",
     "output_type": "stream",
     "text": [
      "[[0.00251132 0.0453915  0.05287222]\n",
      " [0.18790547 0.22643453 0.24433046]\n",
      " [0.06741515 0.10033892 0.12202017]]\n"
     ]
    }
   ],
   "source": [
    "print(kmeans.cluster_centers_)"
   ]
  },
  {
   "cell_type": "markdown",
   "id": "465dc232",
   "metadata": {},
   "source": [
    "#### Compute the minimum, maximum, average & total non- normalized metrics for each cluster. Interpret your results visually with accompanying text explaining your findings\n",
    "\n"
   ]
  },
  {
   "cell_type": "code",
   "execution_count": 58,
   "id": "acacb09f",
   "metadata": {},
   "outputs": [],
   "source": [
    "cluster = kmeans.predict(df_normalized)\n",
    "cluster_df = df_task2.copy()\n",
    "cluster_df['cluster']  = cluster\n"
   ]
  },
  {
   "cell_type": "code",
   "execution_count": 59,
   "id": "a5f45f3d",
   "metadata": {},
   "outputs": [],
   "source": [
    "cluster_group_df = cluster_df.groupby('cluster')\n",
    "cluster_0 = cluster_group_df.get_group(0)\n",
    "cluster_1 = cluster_group_df.get_group(1)\n",
    "cluster_2 = cluster_group_df.get_group(2)"
   ]
  },
  {
   "cell_type": "code",
   "execution_count": 60,
   "id": "d256578b",
   "metadata": {},
   "outputs": [
    {
     "data": {
      "image/png": "[encoded data removed]",
      "text/plain": [
       "<Figure size 864x504 with 1 Axes>"
      ]
     },
     "metadata": {
      "needs_background": "light"
     },
     "output_type": "display_data"
    }
   ],
   "source": [
    "# Cluster 0\n",
    "plot_scatter(cluster_df, \"Bearer Id\", \"Total\",\"Clustering with Kmean\", \"cluster\", \"\")"
   ]
  },
  {
   "cell_type": "code",
   "execution_count": 61,
   "id": "f31bc88b",
   "metadata": {},
   "outputs": [
    {
     "data": {
      "text/html": [
       "<div>\n",
       "<style scoped>\n",
       "    .dataframe tbody tr th:only-of-type {\n",
       "        vertical-align: middle;\n",
       "    }\n",
       "\n",
       "    .dataframe tbody tr th {\n",
       "        vertical-align: top;\n",
       "    }\n",
       "\n",
       "    .dataframe thead th {\n",
       "        text-align: right;\n",
       "    }\n",
       "</style>\n",
       "<table border=\"1\" class=\"dataframe\">\n",
       "  <thead>\n",
       "    <tr style=\"text-align: right;\">\n",
       "      <th></th>\n",
       "      <th>Bearer Id</th>\n",
       "      <th>Dur. (ms)</th>\n",
       "      <th>Total</th>\n",
       "      <th>cluster</th>\n",
       "    </tr>\n",
       "  </thead>\n",
       "  <tbody>\n",
       "    <tr>\n",
       "      <th>count</th>\n",
       "      <td>80,490.00</td>\n",
       "      <td>80,490.00</td>\n",
       "      <td>80,490.00</td>\n",
       "      <td>80,490.00</td>\n",
       "    </tr>\n",
       "    <tr>\n",
       "      <th>mean</th>\n",
       "      <td>1.04</td>\n",
       "      <td>93,300.56</td>\n",
       "      <td>499,162,896.94</td>\n",
       "      <td>0.00</td>\n",
       "    </tr>\n",
       "    <tr>\n",
       "      <th>std</th>\n",
       "      <td>0.20</td>\n",
       "      <td>50,926.66</td>\n",
       "      <td>242,565,312.09</td>\n",
       "      <td>0.00</td>\n",
       "    </tr>\n",
       "    <tr>\n",
       "      <th>min</th>\n",
       "      <td>1.00</td>\n",
       "      <td>7,142.00</td>\n",
       "      <td>33,249,009.00</td>\n",
       "      <td>0.00</td>\n",
       "    </tr>\n",
       "    <tr>\n",
       "      <th>25%</th>\n",
       "      <td>1.00</td>\n",
       "      <td>54,158.00</td>\n",
       "      <td>292,019,368.25</td>\n",
       "      <td>0.00</td>\n",
       "    </tr>\n",
       "    <tr>\n",
       "      <th>50%</th>\n",
       "      <td>1.00</td>\n",
       "      <td>86,399.00</td>\n",
       "      <td>501,219,671.00</td>\n",
       "      <td>0.00</td>\n",
       "    </tr>\n",
       "    <tr>\n",
       "      <th>75%</th>\n",
       "      <td>1.00</td>\n",
       "      <td>127,670.75</td>\n",
       "      <td>706,786,173.25</td>\n",
       "      <td>0.00</td>\n",
       "    </tr>\n",
       "    <tr>\n",
       "      <th>max</th>\n",
       "      <td>2.00</td>\n",
       "      <td>261,421.00</td>\n",
       "      <td>1,047,729,901.00</td>\n",
       "      <td>0.00</td>\n",
       "    </tr>\n",
       "  </tbody>\n",
       "</table>\n",
       "</div>"
      ],
      "text/plain": [
       "       Bearer Id  Dur. (ms)            Total   cluster\n",
       "count  80,490.00  80,490.00        80,490.00 80,490.00\n",
       "mean        1.04  93,300.56   499,162,896.94      0.00\n",
       "std         0.20  50,926.66   242,565,312.09      0.00\n",
       "min         1.00   7,142.00    33,249,009.00      0.00\n",
       "25%         1.00  54,158.00   292,019,368.25      0.00\n",
       "50%         1.00  86,399.00   501,219,671.00      0.00\n",
       "75%         1.00 127,670.75   706,786,173.25      0.00\n",
       "max         2.00 261,421.00 1,047,729,901.00      0.00"
      ]
     },
     "execution_count": 61,
     "metadata": {},
     "output_type": "execute_result"
    }
   ],
   "source": [
    "# cluster 0\n",
    "cluster_0.describe()"
   ]
  },
  {
   "cell_type": "code",
   "execution_count": 62,
   "id": "b944d2b1",
   "metadata": {},
   "outputs": [
    {
     "data": {
      "text/html": [
       "<div>\n",
       "<style scoped>\n",
       "    .dataframe tbody tr th:only-of-type {\n",
       "        vertical-align: middle;\n",
       "    }\n",
       "\n",
       "    .dataframe tbody tr th {\n",
       "        vertical-align: top;\n",
       "    }\n",
       "\n",
       "    .dataframe thead th {\n",
       "        text-align: right;\n",
       "    }\n",
       "</style>\n",
       "<table border=\"1\" class=\"dataframe\">\n",
       "  <thead>\n",
       "    <tr style=\"text-align: right;\">\n",
       "      <th></th>\n",
       "      <th>Bearer Id</th>\n",
       "      <th>Dur. (ms)</th>\n",
       "      <th>Total</th>\n",
       "      <th>cluster</th>\n",
       "    </tr>\n",
       "  </thead>\n",
       "  <tbody>\n",
       "    <tr>\n",
       "      <th>count</th>\n",
       "      <td>4,324.00</td>\n",
       "      <td>4,324.00</td>\n",
       "      <td>4,324.00</td>\n",
       "      <td>4,324.00</td>\n",
       "    </tr>\n",
       "    <tr>\n",
       "      <th>mean</th>\n",
       "      <td>4.19</td>\n",
       "      <td>436,793.56</td>\n",
       "      <td>2,185,460,356.30</td>\n",
       "      <td>1.00</td>\n",
       "    </tr>\n",
       "    <tr>\n",
       "      <th>std</th>\n",
       "      <td>1.22</td>\n",
       "      <td>154,628.04</td>\n",
       "      <td>702,669,336.22</td>\n",
       "      <td>0.00</td>\n",
       "    </tr>\n",
       "    <tr>\n",
       "      <th>min</th>\n",
       "      <td>3.00</td>\n",
       "      <td>85,554.00</td>\n",
       "      <td>661,851,764.00</td>\n",
       "      <td>1.00</td>\n",
       "    </tr>\n",
       "    <tr>\n",
       "      <th>25%</th>\n",
       "      <td>3.00</td>\n",
       "      <td>345,597.00</td>\n",
       "      <td>1,735,694,858.00</td>\n",
       "      <td>1.00</td>\n",
       "    </tr>\n",
       "    <tr>\n",
       "      <th>50%</th>\n",
       "      <td>4.00</td>\n",
       "      <td>420,869.00</td>\n",
       "      <td>2,082,001,496.00</td>\n",
       "      <td>1.00</td>\n",
       "    </tr>\n",
       "    <tr>\n",
       "      <th>75%</th>\n",
       "      <td>5.00</td>\n",
       "      <td>482,661.75</td>\n",
       "      <td>2,511,949,031.50</td>\n",
       "      <td>1.00</td>\n",
       "    </tr>\n",
       "    <tr>\n",
       "      <th>max</th>\n",
       "      <td>18.00</td>\n",
       "      <td>1,905,478.00</td>\n",
       "      <td>8,846,226,494.00</td>\n",
       "      <td>1.00</td>\n",
       "    </tr>\n",
       "  </tbody>\n",
       "</table>\n",
       "</div>"
      ],
      "text/plain": [
       "       Bearer Id    Dur. (ms)            Total  cluster\n",
       "count   4,324.00     4,324.00         4,324.00 4,324.00\n",
       "mean        4.19   436,793.56 2,185,460,356.30     1.00\n",
       "std         1.22   154,628.04   702,669,336.22     0.00\n",
       "min         3.00    85,554.00   661,851,764.00     1.00\n",
       "25%         3.00   345,597.00 1,735,694,858.00     1.00\n",
       "50%         4.00   420,869.00 2,082,001,496.00     1.00\n",
       "75%         5.00   482,661.75 2,511,949,031.50     1.00\n",
       "max        18.00 1,905,478.00 8,846,226,494.00     1.00"
      ]
     },
     "execution_count": 62,
     "metadata": {},
     "output_type": "execute_result"
    }
   ],
   "source": [
    "# cluster 1\n",
    "cluster_1.describe()"
   ]
  },
  {
   "cell_type": "code",
   "execution_count": 63,
   "id": "97d14218",
   "metadata": {},
   "outputs": [
    {
     "data": {
      "text/html": [
       "<div>\n",
       "<style scoped>\n",
       "    .dataframe tbody tr th:only-of-type {\n",
       "        vertical-align: middle;\n",
       "    }\n",
       "\n",
       "    .dataframe tbody tr th {\n",
       "        vertical-align: top;\n",
       "    }\n",
       "\n",
       "    .dataframe thead th {\n",
       "        text-align: right;\n",
       "    }\n",
       "</style>\n",
       "<table border=\"1\" class=\"dataframe\">\n",
       "  <thead>\n",
       "    <tr style=\"text-align: right;\">\n",
       "      <th></th>\n",
       "      <th>Bearer Id</th>\n",
       "      <th>Dur. (ms)</th>\n",
       "      <th>Total</th>\n",
       "      <th>cluster</th>\n",
       "    </tr>\n",
       "  </thead>\n",
       "  <tbody>\n",
       "    <tr>\n",
       "      <th>count</th>\n",
       "      <td>21,657.00</td>\n",
       "      <td>21,657.00</td>\n",
       "      <td>21,657.00</td>\n",
       "      <td>21,657.00</td>\n",
       "    </tr>\n",
       "    <tr>\n",
       "      <th>mean</th>\n",
       "      <td>2.15</td>\n",
       "      <td>197,529.18</td>\n",
       "      <td>1,108,152,475.30</td>\n",
       "      <td>2.00</td>\n",
       "    </tr>\n",
       "    <tr>\n",
       "      <th>std</th>\n",
       "      <td>0.41</td>\n",
       "      <td>84,186.99</td>\n",
       "      <td>337,356,858.22</td>\n",
       "      <td>0.00</td>\n",
       "    </tr>\n",
       "    <tr>\n",
       "      <th>min</th>\n",
       "      <td>1.00</td>\n",
       "      <td>18,235.00</td>\n",
       "      <td>167,774,602.00</td>\n",
       "      <td>2.00</td>\n",
       "    </tr>\n",
       "    <tr>\n",
       "      <th>25%</th>\n",
       "      <td>2.00</td>\n",
       "      <td>145,255.00</td>\n",
       "      <td>873,946,703.00</td>\n",
       "      <td>2.00</td>\n",
       "    </tr>\n",
       "    <tr>\n",
       "      <th>50%</th>\n",
       "      <td>2.00</td>\n",
       "      <td>186,785.00</td>\n",
       "      <td>1,091,011,719.00</td>\n",
       "      <td>2.00</td>\n",
       "    </tr>\n",
       "    <tr>\n",
       "      <th>75%</th>\n",
       "      <td>2.00</td>\n",
       "      <td>259,197.00</td>\n",
       "      <td>1,343,208,449.00</td>\n",
       "      <td>2.00</td>\n",
       "    </tr>\n",
       "    <tr>\n",
       "      <th>max</th>\n",
       "      <td>4.00</td>\n",
       "      <td>514,316.00</td>\n",
       "      <td>2,509,056,852.00</td>\n",
       "      <td>2.00</td>\n",
       "    </tr>\n",
       "  </tbody>\n",
       "</table>\n",
       "</div>"
      ],
      "text/plain": [
       "       Bearer Id  Dur. (ms)            Total   cluster\n",
       "count  21,657.00  21,657.00        21,657.00 21,657.00\n",
       "mean        2.15 197,529.18 1,108,152,475.30      2.00\n",
       "std         0.41  84,186.99   337,356,858.22      0.00\n",
       "min         1.00  18,235.00   167,774,602.00      2.00\n",
       "25%         2.00 145,255.00   873,946,703.00      2.00\n",
       "50%         2.00 186,785.00 1,091,011,719.00      2.00\n",
       "75%         2.00 259,197.00 1,343,208,449.00      2.00\n",
       "max         4.00 514,316.00 2,509,056,852.00      2.00"
      ]
     },
     "execution_count": 63,
     "metadata": {},
     "output_type": "execute_result"
    }
   ],
   "source": [
    "# cluster 2\n",
    "cluster_2.describe()"
   ]
  },
  {
   "cell_type": "markdown",
   "id": "83b0d3d1",
   "metadata": {},
   "source": [
    "#### Aggregate user total traffic per application and derive the top 10 most engaged users per application"
   ]
  },
  {
   "cell_type": "code",
   "execution_count": 65,
   "id": "452f64f4",
   "metadata": {},
   "outputs": [
    {
     "data": {
      "text/html": [
       "<div>\n",
       "<style scoped>\n",
       "    .dataframe tbody tr th:only-of-type {\n",
       "        vertical-align: middle;\n",
       "    }\n",
       "\n",
       "    .dataframe tbody tr th {\n",
       "        vertical-align: top;\n",
       "    }\n",
       "\n",
       "    .dataframe thead th {\n",
       "        text-align: right;\n",
       "    }\n",
       "</style>\n",
       "<table border=\"1\" class=\"dataframe\">\n",
       "  <thead>\n",
       "    <tr style=\"text-align: right;\">\n",
       "      <th></th>\n",
       "      <th>MSISDN/Number</th>\n",
       "      <th>Total Social Media</th>\n",
       "    </tr>\n",
       "  </thead>\n",
       "  <tbody>\n",
       "    <tr>\n",
       "      <th>16845</th>\n",
       "      <td>33,632,802,619.00</td>\n",
       "      <td>3,308,917.00</td>\n",
       "    </tr>\n",
       "    <tr>\n",
       "      <th>26763</th>\n",
       "      <td>33,650,915,202.00</td>\n",
       "      <td>3,308,851.00</td>\n",
       "    </tr>\n",
       "    <tr>\n",
       "      <th>51708</th>\n",
       "      <td>33,663,244,886.00</td>\n",
       "      <td>3,308,847.00</td>\n",
       "    </tr>\n",
       "    <tr>\n",
       "      <th>8587</th>\n",
       "      <td>33,618,493,673.00</td>\n",
       "      <td>3,308,844.00</td>\n",
       "    </tr>\n",
       "    <tr>\n",
       "      <th>69513</th>\n",
       "      <td>33,668,654,150.00</td>\n",
       "      <td>3,308,810.00</td>\n",
       "    </tr>\n",
       "  </tbody>\n",
       "</table>\n",
       "</div>"
      ],
      "text/plain": [
       "          MSISDN/Number  Total Social Media\n",
       "16845 33,632,802,619.00        3,308,917.00\n",
       "26763 33,650,915,202.00        3,308,851.00\n",
       "51708 33,663,244,886.00        3,308,847.00\n",
       "8587  33,618,493,673.00        3,308,844.00\n",
       "69513 33,668,654,150.00        3,308,810.00"
      ]
     },
     "execution_count": 65,
     "metadata": {},
     "output_type": "execute_result"
    }
   ],
   "source": [
    "# total trafic, Application, user -> top to users\n",
    "engagement = user_behaviour.reset_index().copy()\n",
    "\n",
    "# Social Media engagement\n",
    "engagement[['MSISDN/Number','Total Social Media']].sort_values(by='Total Social Media',ascending=False).head(5)"
   ]
  },
  {
   "cell_type": "code",
   "execution_count": 66,
   "id": "f9cd284b",
   "metadata": {},
   "outputs": [
    {
     "data": {
      "text/html": [
       "<div>\n",
       "<style scoped>\n",
       "    .dataframe tbody tr th:only-of-type {\n",
       "        vertical-align: middle;\n",
       "    }\n",
       "\n",
       "    .dataframe tbody tr th {\n",
       "        vertical-align: top;\n",
       "    }\n",
       "\n",
       "    .dataframe thead th {\n",
       "        text-align: right;\n",
       "    }\n",
       "</style>\n",
       "<table border=\"1\" class=\"dataframe\">\n",
       "  <thead>\n",
       "    <tr style=\"text-align: right;\">\n",
       "      <th></th>\n",
       "      <th>MSISDN/Number</th>\n",
       "      <th>Total Google</th>\n",
       "    </tr>\n",
       "  </thead>\n",
       "  <tbody>\n",
       "    <tr>\n",
       "      <th>64109</th>\n",
       "      <td>33,666,914,414.00</td>\n",
       "      <td>13,222,965.00</td>\n",
       "    </tr>\n",
       "    <tr>\n",
       "      <th>23426</th>\n",
       "      <td>33,650,140,959.00</td>\n",
       "      <td>13,222,256.00</td>\n",
       "    </tr>\n",
       "    <tr>\n",
       "      <th>33218</th>\n",
       "      <td>33,658,920,029.00</td>\n",
       "      <td>13,222,045.00</td>\n",
       "    </tr>\n",
       "    <tr>\n",
       "      <th>7502</th>\n",
       "      <td>33,616,635,911.00</td>\n",
       "      <td>13,222,036.00</td>\n",
       "    </tr>\n",
       "    <tr>\n",
       "      <th>64803</th>\n",
       "      <td>33,667,131,820.00</td>\n",
       "      <td>13,221,972.00</td>\n",
       "    </tr>\n",
       "  </tbody>\n",
       "</table>\n",
       "</div>"
      ],
      "text/plain": [
       "          MSISDN/Number  Total Google\n",
       "64109 33,666,914,414.00 13,222,965.00\n",
       "23426 33,650,140,959.00 13,222,256.00\n",
       "33218 33,658,920,029.00 13,222,045.00\n",
       "7502  33,616,635,911.00 13,222,036.00\n",
       "64803 33,667,131,820.00 13,221,972.00"
      ]
     },
     "execution_count": 66,
     "metadata": {},
     "output_type": "execute_result"
    }
   ],
   "source": [
    "# Google Engagement\n",
    "engagement[['MSISDN/Number','Total Google']].sort_values(by='Total Google',ascending=False).head(5)"
   ]
  },
  {
   "cell_type": "code",
   "execution_count": 67,
   "id": "5e8a4e9c",
   "metadata": {},
   "outputs": [
    {
     "data": {
      "text/html": [
       "<div>\n",
       "<style scoped>\n",
       "    .dataframe tbody tr th:only-of-type {\n",
       "        vertical-align: middle;\n",
       "    }\n",
       "\n",
       "    .dataframe tbody tr th {\n",
       "        vertical-align: top;\n",
       "    }\n",
       "\n",
       "    .dataframe thead th {\n",
       "        text-align: right;\n",
       "    }\n",
       "</style>\n",
       "<table border=\"1\" class=\"dataframe\">\n",
       "  <thead>\n",
       "    <tr style=\"text-align: right;\">\n",
       "      <th></th>\n",
       "      <th>MSISDN/Number</th>\n",
       "      <th>Total Gaming</th>\n",
       "    </tr>\n",
       "  </thead>\n",
       "  <tbody>\n",
       "    <tr>\n",
       "      <th>92162</th>\n",
       "      <td>33,760,391,974.00</td>\n",
       "      <td>777,695,585.00</td>\n",
       "    </tr>\n",
       "    <tr>\n",
       "      <th>20724</th>\n",
       "      <td>33,645,068,304.00</td>\n",
       "      <td>777,688,252.00</td>\n",
       "    </tr>\n",
       "    <tr>\n",
       "      <th>80316</th>\n",
       "      <td>33,684,464,188.00</td>\n",
       "      <td>777,687,845.00</td>\n",
       "    </tr>\n",
       "    <tr>\n",
       "      <th>79820</th>\n",
       "      <td>33,683,392,487.00</td>\n",
       "      <td>777,686,641.00</td>\n",
       "    </tr>\n",
       "    <tr>\n",
       "      <th>13703</th>\n",
       "      <td>33,626,664,513.00</td>\n",
       "      <td>777,684,537.00</td>\n",
       "    </tr>\n",
       "  </tbody>\n",
       "</table>\n",
       "</div>"
      ],
      "text/plain": [
       "          MSISDN/Number   Total Gaming\n",
       "92162 33,760,391,974.00 777,695,585.00\n",
       "20724 33,645,068,304.00 777,688,252.00\n",
       "80316 33,684,464,188.00 777,687,845.00\n",
       "79820 33,683,392,487.00 777,686,641.00\n",
       "13703 33,626,664,513.00 777,684,537.00"
      ]
     },
     "execution_count": 67,
     "metadata": {},
     "output_type": "execute_result"
    }
   ],
   "source": [
    "engagement[['MSISDN/Number','Total Gaming']].sort_values(by='Total Gaming',ascending=False).head(5)"
   ]
  },
  {
   "cell_type": "markdown",
   "id": "e49bd928",
   "metadata": {},
   "source": [
    "#### Plot the top 3 most used applications using appropriate charts.  \n"
   ]
  },
  {
   "cell_type": "code",
   "execution_count": 68,
   "id": "81ab3110",
   "metadata": {},
   "outputs": [
    {
     "data": {
      "text/html": [
       "<div>\n",
       "<style scoped>\n",
       "    .dataframe tbody tr th:only-of-type {\n",
       "        vertical-align: middle;\n",
       "    }\n",
       "\n",
       "    .dataframe tbody tr th {\n",
       "        vertical-align: top;\n",
       "    }\n",
       "\n",
       "    .dataframe thead th {\n",
       "        text-align: right;\n",
       "    }\n",
       "</style>\n",
       "<table border=\"1\" class=\"dataframe\">\n",
       "  <thead>\n",
       "    <tr style=\"text-align: right;\">\n",
       "      <th></th>\n",
       "      <th>Application</th>\n",
       "      <th>counts</th>\n",
       "    </tr>\n",
       "  </thead>\n",
       "  <tbody>\n",
       "    <tr>\n",
       "      <th>3</th>\n",
       "      <td>Total Gaming</td>\n",
       "      <td>47,151,686,206,913.00</td>\n",
       "    </tr>\n",
       "    <tr>\n",
       "      <th>4</th>\n",
       "      <td>Total Other</td>\n",
       "      <td>46,931,455,071,677.00</td>\n",
       "    </tr>\n",
       "    <tr>\n",
       "      <th>1</th>\n",
       "      <td>Total Youtube</td>\n",
       "      <td>2,498,559,564,923.00</td>\n",
       "    </tr>\n",
       "  </tbody>\n",
       "</table>\n",
       "</div>"
      ],
      "text/plain": [
       "     Application                counts\n",
       "3   Total Gaming 47,151,686,206,913.00\n",
       "4    Total Other 46,931,455,071,677.00\n",
       "1  Total Youtube  2,498,559,564,923.00"
      ]
     },
     "execution_count": 68,
     "metadata": {},
     "output_type": "execute_result"
    }
   ],
   "source": [
    "data = []\n",
    "\n",
    "# Remove 'MSISDN/Number' and 'Total' from columns list\n",
    "columns = user_behaviour.columns.tolist()[1:-1]\n",
    "\n",
    "for column in columns:\n",
    "    data.append(user_behaviour[column].sum())\n",
    "\n",
    "data_df = pd.DataFrame({\"Application\": columns, \"counts\":data})\n",
    "\n",
    "data_df.sort_values(by='counts', ascending=False)[:3]"
   ]
  },
  {
   "cell_type": "code",
   "execution_count": 69,
   "id": "dc3a494e",
   "metadata": {},
   "outputs": [
    {
     "data": {
      "image/png": "[encoded data removed]",
      "text/plain": [
       "<Figure size 864x504 with 1 Axes>"
      ]
     },
     "metadata": {
      "needs_background": "light"
     },
     "output_type": "display_data"
    }
   ],
   "source": [
    "plot_bar(data_df,data_df['Application'], data_df['counts'], \"Applications Data usage\", \"App Name\", \"Data\")"
   ]
  },
  {
   "cell_type": "markdown",
   "id": "da3e08ed",
   "metadata": {},
   "source": [
    "Using k-means clustering algorithm, group users in k engagement clusters based on the engagement metrics: \n",
    "1. What is the optimized value of k (use elbow method for this)?  \n",
    "2. Interpret your findings.\n"
   ]
  },
  {
   "cell_type": "code",
   "execution_count": 70,
   "id": "76d65e8e",
   "metadata": {},
   "outputs": [],
   "source": [
    "distortions = []\n",
    "K = range(1,10)\n",
    "for k in K:\n",
    "    kmeanModel = KMeans(n_clusters=k)\n",
    "    kmeanModel.fit(df_normalized)\n",
    "    distortions.append(kmeanModel.inertia_)"
   ]
  },
  {
   "cell_type": "code",
   "execution_count": 71,
   "id": "553e2de3",
   "metadata": {},
   "outputs": [
    {
     "data": {
      "image/png": "[encoded data removed]",
      "text/plain": [
       "<Figure size 1152x576 with 1 Axes>"
      ]
     },
     "metadata": {
      "needs_background": "light"
     },
     "output_type": "display_data"
    }
   ],
   "source": [
    "plt.figure(figsize=(16,8))\n",
    "plt.plot(K, distortions, 'bx-')\n",
    "plt.xlabel('k')\n",
    "plt.ylabel('Distortion')\n",
    "plt.title('The Elbow Method showing the optimal k')\n",
    "plt.show()"
   ]
  },
  {
   "cell_type": "code",
   "execution_count": 72,
   "id": "5e9f4ee2",
   "metadata": {},
   "outputs": [],
   "source": [
    "### so Number 3 is the optimum, and we should run with 3 cluster\n",
    "kmeans = KMeans(n_clusters=3)\n",
    "kmeans.fit(df_normalized)\n",
    "\n",
    "cluster = kmeans.predict(df_normalized)\n",
    "cluster_df = df_task2.copy()\n",
    "cluster_df['cluster']  = cluster\n"
   ]
  },
  {
   "cell_type": "markdown",
   "id": "313e3845",
   "metadata": {},
   "source": [
    "## Task 3"
   ]
  },
  {
   "cell_type": "markdown",
   "id": "3ecc2057",
   "metadata": {},
   "source": [
    "Aggregate, per customer, the following information (treat missing & outliers by replacing by the mean or the mode of the corresponding variable):\n",
    "1. Average TCP retransmission\n",
    "2. Average RTT\n",
    "3. Handset type\n",
    "4. Average throughput\n"
   ]
  },
  {
   "cell_type": "code",
   "execution_count": 73,
   "id": "43fc3f88",
   "metadata": {},
   "outputs": [
    {
     "name": "stdout",
     "output_type": "stream",
     "text": [
      "Data Fraame contain null values of 18.56%\n"
     ]
    },
    {
     "data": {
      "text/plain": [
       "MSISDN/Number                      0\n",
       "Bearer Id                          0\n",
       "Handset Type                    8904\n",
       "TCP DL Retrans. Vol (Bytes)    87764\n",
       "TCP UL Retrans. Vol (Bytes)    96128\n",
       "Avg RTT DL (ms)                27636\n",
       "Avg RTT UL (ms)                27616\n",
       "Avg Bearer TP DL (kbps)            0\n",
       "Avg Bearer TP UL (kbps)            0\n",
       "dtype: int64"
      ]
     },
     "execution_count": 73,
     "metadata": {},
     "output_type": "execute_result"
    }
   ],
   "source": [
    "'''\n",
    "TCP DL Retrans. Vol (Bytes)\n",
    "TCP UL Retrans. Vol (Bytes)\n",
    "\n",
    "Avg RTT DL (ms)\n",
    "Avg RTT UL (ms)\n",
    "\n",
    "Handset type\n",
    "\n",
    "Avg Bearer TP DL (kbps)\n",
    "Avg Bearer TP UL (kbps)\n",
    "\n",
    "'''\n",
    "new_netwok_df = df[['MSISDN/Number','Bearer Id','Handset Type','TCP DL Retrans. Vol (Bytes)', 'TCP UL Retrans. Vol (Bytes)',\\\n",
    "                         'Avg RTT DL (ms)', 'Avg RTT UL (ms)',\\\n",
    "                         'Avg Bearer TP DL (kbps)', 'Avg Bearer TP UL (kbps)']]\n",
    "\n",
    "\n",
    "null_percentage(new_netwok_df)\n",
    "new_netwok_df.isnull().sum()"
   ]
  },
  {
   "cell_type": "code",
   "execution_count": 74,
   "id": "e701b993",
   "metadata": {},
   "outputs": [],
   "source": [
    "## Fill Mising Values\n",
    "for col in new_netwok_df.columns:\n",
    "    if(new_netwok_df[col].isnull().sum()):\n",
    "        new_netwok_df[col] = new_netwok_df[col].fillna(new_netwok_df[col].mode()[0])\n"
   ]
  },
  {
   "cell_type": "code",
   "execution_count": 75,
   "id": "a1eff6a1",
   "metadata": {},
   "outputs": [
    {
     "name": "stdout",
     "output_type": "stream",
     "text": [
      "Data Fraame contain null values of 0.0%\n"
     ]
    },
    {
     "data": {
      "text/plain": [
       "MSISDN/Number                  0\n",
       "Bearer Id                      0\n",
       "Handset Type                   0\n",
       "TCP DL Retrans. Vol (Bytes)    0\n",
       "TCP UL Retrans. Vol (Bytes)    0\n",
       "Avg RTT DL (ms)                0\n",
       "Avg RTT UL (ms)                0\n",
       "Avg Bearer TP DL (kbps)        0\n",
       "Avg Bearer TP UL (kbps)        0\n",
       "dtype: int64"
      ]
     },
     "execution_count": 75,
     "metadata": {},
     "output_type": "execute_result"
    }
   ],
   "source": [
    "null_percentage(new_netwok_df)\n",
    "new_netwok_df.isnull().sum()"
   ]
  },
  {
   "cell_type": "code",
   "execution_count": 76,
   "id": "dbdc3df7",
   "metadata": {},
   "outputs": [
    {
     "data": {
      "text/html": [
       "<div>\n",
       "<style scoped>\n",
       "    .dataframe tbody tr th:only-of-type {\n",
       "        vertical-align: middle;\n",
       "    }\n",
       "\n",
       "    .dataframe tbody tr th {\n",
       "        vertical-align: top;\n",
       "    }\n",
       "\n",
       "    .dataframe thead th {\n",
       "        text-align: right;\n",
       "    }\n",
       "</style>\n",
       "<table border=\"1\" class=\"dataframe\">\n",
       "  <thead>\n",
       "    <tr style=\"text-align: right;\">\n",
       "      <th></th>\n",
       "      <th>MSISDN/Number</th>\n",
       "      <th>Bearer Id</th>\n",
       "      <th>Handset Type</th>\n",
       "      <th>TCP DL Retrans. Vol (Bytes)</th>\n",
       "      <th>TCP UL Retrans. Vol (Bytes)</th>\n",
       "      <th>Avg RTT DL (ms)</th>\n",
       "      <th>Avg RTT UL (ms)</th>\n",
       "      <th>Avg Bearer TP DL (kbps)</th>\n",
       "      <th>Avg Bearer TP UL (kbps)</th>\n",
       "      <th>Total TCP Retrans</th>\n",
       "      <th>Total Throughput</th>\n",
       "      <th>Total RTT</th>\n",
       "    </tr>\n",
       "  </thead>\n",
       "  <tbody>\n",
       "    <tr>\n",
       "      <th>0</th>\n",
       "      <td>33,664,962,239.00</td>\n",
       "      <td>13,114,483,460,845,000,704.00</td>\n",
       "      <td>Samsung Galaxy A5 Sm-A520F</td>\n",
       "      <td>1,330.00</td>\n",
       "      <td>1,330.00</td>\n",
       "      <td>42.00</td>\n",
       "      <td>5.00</td>\n",
       "      <td>23.00</td>\n",
       "      <td>44.00</td>\n",
       "      <td>2,660.00</td>\n",
       "      <td>46.00</td>\n",
       "      <td>47.00</td>\n",
       "    </tr>\n",
       "    <tr>\n",
       "      <th>1</th>\n",
       "      <td>33,681,854,413.00</td>\n",
       "      <td>13,114,483,482,879,000,576.00</td>\n",
       "      <td>Samsung Galaxy J5 (Sm-J530)</td>\n",
       "      <td>1,330.00</td>\n",
       "      <td>1,330.00</td>\n",
       "      <td>65.00</td>\n",
       "      <td>5.00</td>\n",
       "      <td>16.00</td>\n",
       "      <td>26.00</td>\n",
       "      <td>2,660.00</td>\n",
       "      <td>32.00</td>\n",
       "      <td>70.00</td>\n",
       "    </tr>\n",
       "    <tr>\n",
       "      <th>2</th>\n",
       "      <td>33,760,627,129.00</td>\n",
       "      <td>13,114,483,484,081,000,448.00</td>\n",
       "      <td>Samsung Galaxy A8 (2018)</td>\n",
       "      <td>1,330.00</td>\n",
       "      <td>1,330.00</td>\n",
       "      <td>28.00</td>\n",
       "      <td>5.00</td>\n",
       "      <td>6.00</td>\n",
       "      <td>9.00</td>\n",
       "      <td>2,660.00</td>\n",
       "      <td>12.00</td>\n",
       "      <td>33.00</td>\n",
       "    </tr>\n",
       "    <tr>\n",
       "      <th>3</th>\n",
       "      <td>33,750,343,200.00</td>\n",
       "      <td>13,114,483,485,443,000,320.00</td>\n",
       "      <td>Huawei B528S-23A</td>\n",
       "      <td>1,330.00</td>\n",
       "      <td>1,330.00</td>\n",
       "      <td>28.00</td>\n",
       "      <td>5.00</td>\n",
       "      <td>44.00</td>\n",
       "      <td>44.00</td>\n",
       "      <td>2,660.00</td>\n",
       "      <td>88.00</td>\n",
       "      <td>33.00</td>\n",
       "    </tr>\n",
       "    <tr>\n",
       "      <th>4</th>\n",
       "      <td>33,699,795,932.00</td>\n",
       "      <td>13,114,483,499,480,999,936.00</td>\n",
       "      <td>Samsung Sm-G390F</td>\n",
       "      <td>1,330.00</td>\n",
       "      <td>1,330.00</td>\n",
       "      <td>28.00</td>\n",
       "      <td>5.00</td>\n",
       "      <td>6.00</td>\n",
       "      <td>9.00</td>\n",
       "      <td>2,660.00</td>\n",
       "      <td>12.00</td>\n",
       "      <td>33.00</td>\n",
       "    </tr>\n",
       "  </tbody>\n",
       "</table>\n",
       "</div>"
      ],
      "text/plain": [
       "      MSISDN/Number                     Bearer Id  \\\n",
       "0 33,664,962,239.00 13,114,483,460,845,000,704.00   \n",
       "1 33,681,854,413.00 13,114,483,482,879,000,576.00   \n",
       "2 33,760,627,129.00 13,114,483,484,081,000,448.00   \n",
       "3 33,750,343,200.00 13,114,483,485,443,000,320.00   \n",
       "4 33,699,795,932.00 13,114,483,499,480,999,936.00   \n",
       "\n",
       "                  Handset Type  TCP DL Retrans. Vol (Bytes)  \\\n",
       "0   Samsung Galaxy A5 Sm-A520F                     1,330.00   \n",
       "1  Samsung Galaxy J5 (Sm-J530)                     1,330.00   \n",
       "2     Samsung Galaxy A8 (2018)                     1,330.00   \n",
       "3             Huawei B528S-23A                     1,330.00   \n",
       "4             Samsung Sm-G390F                     1,330.00   \n",
       "\n",
       "   TCP UL Retrans. Vol (Bytes)  Avg RTT DL (ms)  Avg RTT UL (ms)  \\\n",
       "0                     1,330.00            42.00             5.00   \n",
       "1                     1,330.00            65.00             5.00   \n",
       "2                     1,330.00            28.00             5.00   \n",
       "3                     1,330.00            28.00             5.00   \n",
       "4                     1,330.00            28.00             5.00   \n",
       "\n",
       "   Avg Bearer TP DL (kbps)  Avg Bearer TP UL (kbps)  Total TCP Retrans  \\\n",
       "0                    23.00                    44.00           2,660.00   \n",
       "1                    16.00                    26.00           2,660.00   \n",
       "2                     6.00                     9.00           2,660.00   \n",
       "3                    44.00                    44.00           2,660.00   \n",
       "4                     6.00                     9.00           2,660.00   \n",
       "\n",
       "   Total Throughput  Total RTT  \n",
       "0             46.00      47.00  \n",
       "1             32.00      70.00  \n",
       "2             12.00      33.00  \n",
       "3             88.00      33.00  \n",
       "4             12.00      33.00  "
      ]
     },
     "execution_count": 76,
     "metadata": {},
     "output_type": "execute_result"
    }
   ],
   "source": [
    "new_netwok_df['Total TCP Retrans'] = new_netwok_df['TCP DL Retrans. Vol (Bytes)'] +\\\n",
    "    new_netwok_df['TCP UL Retrans. Vol (Bytes)']\n",
    "new_netwok_df['Total Throughput'] = new_netwok_df['Avg Bearer TP DL (kbps)'] +\\\n",
    "    new_netwok_df['Avg Bearer TP DL (kbps)']\n",
    "\n",
    "new_netwok_df['Total RTT'] = new_netwok_df['Avg RTT DL (ms)'] + new_netwok_df['Avg RTT UL (ms)']\n",
    "\n",
    "new_netwok_df.head()\n"
   ]
  },
  {
   "cell_type": "code",
   "execution_count": 78,
   "id": "fbc1745f",
   "metadata": {},
   "outputs": [
    {
     "data": {
      "text/html": [
       "<div>\n",
       "<style scoped>\n",
       "    .dataframe tbody tr th:only-of-type {\n",
       "        vertical-align: middle;\n",
       "    }\n",
       "\n",
       "    .dataframe tbody tr th {\n",
       "        vertical-align: top;\n",
       "    }\n",
       "\n",
       "    .dataframe thead th {\n",
       "        text-align: right;\n",
       "    }\n",
       "</style>\n",
       "<table border=\"1\" class=\"dataframe\">\n",
       "  <thead>\n",
       "    <tr style=\"text-align: right;\">\n",
       "      <th></th>\n",
       "      <th>MSISDN/Number</th>\n",
       "      <th>Total TCP Retrans</th>\n",
       "      <th>Total Throughput</th>\n",
       "      <th>Total RTT</th>\n",
       "    </tr>\n",
       "  </thead>\n",
       "  <tbody>\n",
       "    <tr>\n",
       "      <th>0</th>\n",
       "      <td>33,601,001,722.00</td>\n",
       "      <td>2,660.00</td>\n",
       "      <td>74.00</td>\n",
       "      <td>46.00</td>\n",
       "    </tr>\n",
       "    <tr>\n",
       "      <th>1</th>\n",
       "      <td>33,601,001,754.00</td>\n",
       "      <td>2,660.00</td>\n",
       "      <td>96.00</td>\n",
       "      <td>31.00</td>\n",
       "    </tr>\n",
       "    <tr>\n",
       "      <th>2</th>\n",
       "      <td>33,601,002,511.00</td>\n",
       "      <td>2,660.00</td>\n",
       "      <td>96.00</td>\n",
       "      <td>33.00</td>\n",
       "    </tr>\n",
       "    <tr>\n",
       "      <th>3</th>\n",
       "      <td>33,601,007,832.00</td>\n",
       "      <td>2,396.00</td>\n",
       "      <td>408.00</td>\n",
       "      <td>84.00</td>\n",
       "    </tr>\n",
       "    <tr>\n",
       "      <th>4</th>\n",
       "      <td>33,601,008,617.00</td>\n",
       "      <td>9,373,492.00</td>\n",
       "      <td>80,790.00</td>\n",
       "      <td>119.00</td>\n",
       "    </tr>\n",
       "  </tbody>\n",
       "</table>\n",
       "</div>"
      ],
      "text/plain": [
       "      MSISDN/Number  Total TCP Retrans  Total Throughput  Total RTT\n",
       "0 33,601,001,722.00           2,660.00             74.00      46.00\n",
       "1 33,601,001,754.00           2,660.00             96.00      31.00\n",
       "2 33,601,002,511.00           2,660.00             96.00      33.00\n",
       "3 33,601,007,832.00           2,396.00            408.00      84.00\n",
       "4 33,601,008,617.00       9,373,492.00         80,790.00     119.00"
      ]
     },
     "execution_count": 78,
     "metadata": {},
     "output_type": "execute_result"
    }
   ],
   "source": [
    "aggregate = {'Total TCP Retrans':'sum', 'Total Throughput':'sum', 'Total RTT':'sum'}\n",
    "columns = ['MSISDN/Number','Bearer Id','Handset Type', 'Total TCP Retrans', 'Total Throughput', 'Total RTT']\n",
    "network_per_user_df = new_netwok_df[columns].groupby('MSISDN/Number').agg(aggregate).reset_index()\n",
    "network_per_user_df.head()"
   ]
  },
  {
   "cell_type": "markdown",
   "id": "6cbb1c2a",
   "metadata": {},
   "source": [
    "Compute & list 10 of the top, bottom and most frequent:\n",
    "1. TCP values in the dataset. \n",
    "2. RTT values in the dataset.\n",
    "3. Throughput values in the dataset.\n"
   ]
  },
  {
   "cell_type": "code",
   "execution_count": 79,
   "id": "2ced6efc",
   "metadata": {},
   "outputs": [
    {
     "data": {
      "text/html": [
       "<div>\n",
       "<style scoped>\n",
       "    .dataframe tbody tr th:only-of-type {\n",
       "        vertical-align: middle;\n",
       "    }\n",
       "\n",
       "    .dataframe tbody tr th {\n",
       "        vertical-align: top;\n",
       "    }\n",
       "\n",
       "    .dataframe thead th {\n",
       "        text-align: right;\n",
       "    }\n",
       "</style>\n",
       "<table border=\"1\" class=\"dataframe\">\n",
       "  <thead>\n",
       "    <tr style=\"text-align: right;\">\n",
       "      <th></th>\n",
       "      <th>MSISDN/Number</th>\n",
       "      <th>Total TCP Retrans</th>\n",
       "      <th>Total Throughput</th>\n",
       "      <th>Total RTT</th>\n",
       "    </tr>\n",
       "  </thead>\n",
       "  <tbody>\n",
       "    <tr>\n",
       "      <th>66616</th>\n",
       "      <td>33,667,725,464.00</td>\n",
       "      <td>8,354,209,105.00</td>\n",
       "      <td>624,632.00</td>\n",
       "      <td>703.00</td>\n",
       "    </tr>\n",
       "    <tr>\n",
       "      <th>33988</th>\n",
       "      <td>33,659,084,281.00</td>\n",
       "      <td>7,941,860,302.00</td>\n",
       "      <td>328,898.00</td>\n",
       "      <td>396.00</td>\n",
       "    </tr>\n",
       "    <tr>\n",
       "      <th>42210</th>\n",
       "      <td>33,660,977,522.00</td>\n",
       "      <td>7,374,140,390.00</td>\n",
       "      <td>416,266.00</td>\n",
       "      <td>417.00</td>\n",
       "    </tr>\n",
       "    <tr>\n",
       "      <th>94334</th>\n",
       "      <td>33,761,284,050.00</td>\n",
       "      <td>6,043,978,448.00</td>\n",
       "      <td>198,702.00</td>\n",
       "      <td>351.00</td>\n",
       "    </tr>\n",
       "    <tr>\n",
       "      <th>97859</th>\n",
       "      <td>33,762,644,658.00</td>\n",
       "      <td>5,879,989,037.00</td>\n",
       "      <td>906,978.00</td>\n",
       "      <td>2,860.00</td>\n",
       "    </tr>\n",
       "  </tbody>\n",
       "</table>\n",
       "</div>"
      ],
      "text/plain": [
       "          MSISDN/Number  Total TCP Retrans  Total Throughput  Total RTT\n",
       "66616 33,667,725,464.00   8,354,209,105.00        624,632.00     703.00\n",
       "33988 33,659,084,281.00   7,941,860,302.00        328,898.00     396.00\n",
       "42210 33,660,977,522.00   7,374,140,390.00        416,266.00     417.00\n",
       "94334 33,761,284,050.00   6,043,978,448.00        198,702.00     351.00\n",
       "97859 33,762,644,658.00   5,879,989,037.00        906,978.00   2,860.00"
      ]
     },
     "execution_count": 79,
     "metadata": {},
     "output_type": "execute_result"
    }
   ],
   "source": [
    "# top 5\n",
    "network_per_user_df.sort_values(by='Total TCP Retrans', ascending=False)[:5]"
   ]
  },
  {
   "cell_type": "code",
   "execution_count": 80,
   "id": "8814da01",
   "metadata": {},
   "outputs": [
    {
     "data": {
      "text/html": [
       "<div>\n",
       "<style scoped>\n",
       "    .dataframe tbody tr th:only-of-type {\n",
       "        vertical-align: middle;\n",
       "    }\n",
       "\n",
       "    .dataframe tbody tr th {\n",
       "        vertical-align: top;\n",
       "    }\n",
       "\n",
       "    .dataframe thead th {\n",
       "        text-align: right;\n",
       "    }\n",
       "</style>\n",
       "<table border=\"1\" class=\"dataframe\">\n",
       "  <thead>\n",
       "    <tr style=\"text-align: right;\">\n",
       "      <th></th>\n",
       "      <th>MSISDN/Number</th>\n",
       "      <th>Total TCP Retrans</th>\n",
       "      <th>Total Throughput</th>\n",
       "      <th>Total RTT</th>\n",
       "    </tr>\n",
       "  </thead>\n",
       "  <tbody>\n",
       "    <tr>\n",
       "      <th>23369</th>\n",
       "      <td>33,650,128,412.00</td>\n",
       "      <td>97.00</td>\n",
       "      <td>60,460.00</td>\n",
       "      <td>48.00</td>\n",
       "    </tr>\n",
       "    <tr>\n",
       "      <th>6326</th>\n",
       "      <td>33,614,777,138.00</td>\n",
       "      <td>128.00</td>\n",
       "      <td>16,996.00</td>\n",
       "      <td>64.00</td>\n",
       "    </tr>\n",
       "    <tr>\n",
       "      <th>96625</th>\n",
       "      <td>33,762,062,356.00</td>\n",
       "      <td>129.00</td>\n",
       "      <td>63,080.00</td>\n",
       "      <td>41.00</td>\n",
       "    </tr>\n",
       "    <tr>\n",
       "      <th>13487</th>\n",
       "      <td>33,626,357,513.00</td>\n",
       "      <td>134.00</td>\n",
       "      <td>20,256.00</td>\n",
       "      <td>40.00</td>\n",
       "    </tr>\n",
       "    <tr>\n",
       "      <th>2162</th>\n",
       "      <td>33,607,833,304.00</td>\n",
       "      <td>143.00</td>\n",
       "      <td>32,484.00</td>\n",
       "      <td>32.00</td>\n",
       "    </tr>\n",
       "  </tbody>\n",
       "</table>\n",
       "</div>"
      ],
      "text/plain": [
       "          MSISDN/Number  Total TCP Retrans  Total Throughput  Total RTT\n",
       "23369 33,650,128,412.00              97.00         60,460.00      48.00\n",
       "6326  33,614,777,138.00             128.00         16,996.00      64.00\n",
       "96625 33,762,062,356.00             129.00         63,080.00      41.00\n",
       "13487 33,626,357,513.00             134.00         20,256.00      40.00\n",
       "2162  33,607,833,304.00             143.00         32,484.00      32.00"
      ]
     },
     "execution_count": 80,
     "metadata": {},
     "output_type": "execute_result"
    }
   ],
   "source": [
    "# Bottom 5\n",
    "network_per_user_df.sort_values(by='Total TCP Retrans', ascending=True)[:5]"
   ]
  },
  {
   "cell_type": "code",
   "execution_count": 81,
   "id": "8053b189",
   "metadata": {},
   "outputs": [
    {
     "data": {
      "text/plain": [
       "2,660.00     47444\n",
       "5,320.00      7661\n",
       "7,980.00      1107\n",
       "2,624.00       363\n",
       "10,640.00      293\n",
       "Name: Total TCP Retrans, dtype: int64"
      ]
     },
     "execution_count": 81,
     "metadata": {},
     "output_type": "execute_result"
    }
   ],
   "source": [
    "# most frequent\n",
    "network_per_user_df['Total TCP Retrans'].value_counts().head(5)"
   ]
  },
  {
   "cell_type": "markdown",
   "id": "02f3b5f5",
   "metadata": {},
   "source": [
    "Compute & report:\n",
    "1. The distribution of the average throughput  per handset type and provide interpretation for your findings.\n",
    "2. The average TCP retransmission view per handset type and provide \n"
   ]
  },
  {
   "cell_type": "code",
   "execution_count": null,
   "id": "3be1afed",
   "metadata": {},
   "outputs": [],
   "source": []
  },
  {
   "cell_type": "code",
   "execution_count": null,
   "id": "494f95bd",
   "metadata": {},
   "outputs": [],
   "source": []
  },
  {
   "cell_type": "code",
   "execution_count": null,
   "id": "da4b458e",
   "metadata": {},
   "outputs": [],
   "source": []
  }
 ],
 "metadata": {
  "kernelspec": {
   "display_name": "Python 3",
   "language": "python",
   "name": "python3"
  },
  "language_info": {
   "codemirror_mode": {
    "name": "ipython",
    "version": 3
   },
   "file_extension": ".py",
   "mimetype": "text/x-python",
   "name": "python",
   "nbconvert_exporter": "python",
   "pygments_lexer": "ipython3",
   "version": "3.8.8"
  }
 },
 "nbformat": 4,
 "nbformat_minor": 5
}
